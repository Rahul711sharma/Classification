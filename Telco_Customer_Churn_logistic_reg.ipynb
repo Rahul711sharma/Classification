{
  "nbformat": 4,
  "nbformat_minor": 0,
  "metadata": {
    "colab": {
      "name": "Telco_Customer_Churn_logistic_reg.ipynb",
      "provenance": [],
      "authorship_tag": "ABX9TyPCyukHS7zLpKLoijM9kEMs",
      "include_colab_link": true
    },
    "kernelspec": {
      "display_name": "Python 3",
      "name": "python3"
    },
    "language_info": {
      "name": "python"
    }
  },
  "cells": [
    {
      "cell_type": "markdown",
      "metadata": {
        "id": "view-in-github",
        "colab_type": "text"
      },
      "source": [
        "<a href=\"https://colab.research.google.com/github/Rahul711sharma/Classification-ML/blob/main/Telco_Customer_Churn_logistic_reg.ipynb\" target=\"_parent\"><img src=\"https://colab.research.google.com/assets/colab-badge.svg\" alt=\"Open In Colab\"/></a>"
      ]
    },
    {
      "cell_type": "code",
      "metadata": {
        "id": "e5do6Y2I3_8M"
      },
      "source": [
        "import pandas as pd\n",
        "import numpy as np\n",
        "from plotnine import *\n",
        "import matplotlib.pyplot as plt\n",
        "import seaborn as sns"
      ],
      "execution_count": 45,
      "outputs": []
    },
    {
      "cell_type": "code",
      "metadata": {
        "id": "tG1eF5L544H7"
      },
      "source": [
        "from google.colab import drive\n"
      ],
      "execution_count": 46,
      "outputs": []
    },
    {
      "cell_type": "code",
      "metadata": {
        "id": "9CmVOka144OS",
        "colab": {
          "base_uri": "https://localhost:8080/"
        },
        "outputId": "2faa5011-1129-4b0a-bd0f-827caea9967b"
      },
      "source": [
        "drive.mount('/content/drive')"
      ],
      "execution_count": 47,
      "outputs": [
        {
          "output_type": "stream",
          "text": [
            "Drive already mounted at /content/drive; to attempt to forcibly remount, call drive.mount(\"/content/drive\", force_remount=True).\n"
          ],
          "name": "stdout"
        }
      ]
    },
    {
      "cell_type": "code",
      "metadata": {
        "id": "RMVp2Y0b855i"
      },
      "source": [
        "df = pd.read_csv(\"/content/drive/MyDrive/WA_Fn-UseC_-Telco-Customer-Churn.csv\")"
      ],
      "execution_count": 48,
      "outputs": []
    },
    {
      "cell_type": "code",
      "metadata": {
        "id": "5_cHHBXm86AA",
        "colab": {
          "base_uri": "https://localhost:8080/",
          "height": 309
        },
        "outputId": "7620f652-c4ad-4875-df8b-b27c65d60482"
      },
      "source": [
        "df.head()"
      ],
      "execution_count": 49,
      "outputs": [
        {
          "output_type": "execute_result",
          "data": {
            "text/html": [
              "<div>\n",
              "<style scoped>\n",
              "    .dataframe tbody tr th:only-of-type {\n",
              "        vertical-align: middle;\n",
              "    }\n",
              "\n",
              "    .dataframe tbody tr th {\n",
              "        vertical-align: top;\n",
              "    }\n",
              "\n",
              "    .dataframe thead th {\n",
              "        text-align: right;\n",
              "    }\n",
              "</style>\n",
              "<table border=\"1\" class=\"dataframe\">\n",
              "  <thead>\n",
              "    <tr style=\"text-align: right;\">\n",
              "      <th></th>\n",
              "      <th>customerID</th>\n",
              "      <th>gender</th>\n",
              "      <th>SeniorCitizen</th>\n",
              "      <th>Partner</th>\n",
              "      <th>Dependents</th>\n",
              "      <th>tenure</th>\n",
              "      <th>PhoneService</th>\n",
              "      <th>MultipleLines</th>\n",
              "      <th>InternetService</th>\n",
              "      <th>OnlineSecurity</th>\n",
              "      <th>OnlineBackup</th>\n",
              "      <th>DeviceProtection</th>\n",
              "      <th>TechSupport</th>\n",
              "      <th>StreamingTV</th>\n",
              "      <th>StreamingMovies</th>\n",
              "      <th>Contract</th>\n",
              "      <th>PaperlessBilling</th>\n",
              "      <th>PaymentMethod</th>\n",
              "      <th>MonthlyCharges</th>\n",
              "      <th>TotalCharges</th>\n",
              "      <th>Churn</th>\n",
              "    </tr>\n",
              "  </thead>\n",
              "  <tbody>\n",
              "    <tr>\n",
              "      <th>0</th>\n",
              "      <td>7590-VHVEG</td>\n",
              "      <td>Female</td>\n",
              "      <td>0</td>\n",
              "      <td>Yes</td>\n",
              "      <td>No</td>\n",
              "      <td>1</td>\n",
              "      <td>No</td>\n",
              "      <td>No phone service</td>\n",
              "      <td>DSL</td>\n",
              "      <td>No</td>\n",
              "      <td>Yes</td>\n",
              "      <td>No</td>\n",
              "      <td>No</td>\n",
              "      <td>No</td>\n",
              "      <td>No</td>\n",
              "      <td>Month-to-month</td>\n",
              "      <td>Yes</td>\n",
              "      <td>Electronic check</td>\n",
              "      <td>29.85</td>\n",
              "      <td>29.85</td>\n",
              "      <td>No</td>\n",
              "    </tr>\n",
              "    <tr>\n",
              "      <th>1</th>\n",
              "      <td>5575-GNVDE</td>\n",
              "      <td>Male</td>\n",
              "      <td>0</td>\n",
              "      <td>No</td>\n",
              "      <td>No</td>\n",
              "      <td>34</td>\n",
              "      <td>Yes</td>\n",
              "      <td>No</td>\n",
              "      <td>DSL</td>\n",
              "      <td>Yes</td>\n",
              "      <td>No</td>\n",
              "      <td>Yes</td>\n",
              "      <td>No</td>\n",
              "      <td>No</td>\n",
              "      <td>No</td>\n",
              "      <td>One year</td>\n",
              "      <td>No</td>\n",
              "      <td>Mailed check</td>\n",
              "      <td>56.95</td>\n",
              "      <td>1889.5</td>\n",
              "      <td>No</td>\n",
              "    </tr>\n",
              "    <tr>\n",
              "      <th>2</th>\n",
              "      <td>3668-QPYBK</td>\n",
              "      <td>Male</td>\n",
              "      <td>0</td>\n",
              "      <td>No</td>\n",
              "      <td>No</td>\n",
              "      <td>2</td>\n",
              "      <td>Yes</td>\n",
              "      <td>No</td>\n",
              "      <td>DSL</td>\n",
              "      <td>Yes</td>\n",
              "      <td>Yes</td>\n",
              "      <td>No</td>\n",
              "      <td>No</td>\n",
              "      <td>No</td>\n",
              "      <td>No</td>\n",
              "      <td>Month-to-month</td>\n",
              "      <td>Yes</td>\n",
              "      <td>Mailed check</td>\n",
              "      <td>53.85</td>\n",
              "      <td>108.15</td>\n",
              "      <td>Yes</td>\n",
              "    </tr>\n",
              "    <tr>\n",
              "      <th>3</th>\n",
              "      <td>7795-CFOCW</td>\n",
              "      <td>Male</td>\n",
              "      <td>0</td>\n",
              "      <td>No</td>\n",
              "      <td>No</td>\n",
              "      <td>45</td>\n",
              "      <td>No</td>\n",
              "      <td>No phone service</td>\n",
              "      <td>DSL</td>\n",
              "      <td>Yes</td>\n",
              "      <td>No</td>\n",
              "      <td>Yes</td>\n",
              "      <td>Yes</td>\n",
              "      <td>No</td>\n",
              "      <td>No</td>\n",
              "      <td>One year</td>\n",
              "      <td>No</td>\n",
              "      <td>Bank transfer (automatic)</td>\n",
              "      <td>42.30</td>\n",
              "      <td>1840.75</td>\n",
              "      <td>No</td>\n",
              "    </tr>\n",
              "    <tr>\n",
              "      <th>4</th>\n",
              "      <td>9237-HQITU</td>\n",
              "      <td>Female</td>\n",
              "      <td>0</td>\n",
              "      <td>No</td>\n",
              "      <td>No</td>\n",
              "      <td>2</td>\n",
              "      <td>Yes</td>\n",
              "      <td>No</td>\n",
              "      <td>Fiber optic</td>\n",
              "      <td>No</td>\n",
              "      <td>No</td>\n",
              "      <td>No</td>\n",
              "      <td>No</td>\n",
              "      <td>No</td>\n",
              "      <td>No</td>\n",
              "      <td>Month-to-month</td>\n",
              "      <td>Yes</td>\n",
              "      <td>Electronic check</td>\n",
              "      <td>70.70</td>\n",
              "      <td>151.65</td>\n",
              "      <td>Yes</td>\n",
              "    </tr>\n",
              "  </tbody>\n",
              "</table>\n",
              "</div>"
            ],
            "text/plain": [
              "   customerID  gender  SeniorCitizen  ... MonthlyCharges TotalCharges  Churn\n",
              "0  7590-VHVEG  Female              0  ...          29.85        29.85     No\n",
              "1  5575-GNVDE    Male              0  ...          56.95       1889.5     No\n",
              "2  3668-QPYBK    Male              0  ...          53.85       108.15    Yes\n",
              "3  7795-CFOCW    Male              0  ...          42.30      1840.75     No\n",
              "4  9237-HQITU  Female              0  ...          70.70       151.65    Yes\n",
              "\n",
              "[5 rows x 21 columns]"
            ]
          },
          "metadata": {
            "tags": []
          },
          "execution_count": 49
        }
      ]
    },
    {
      "cell_type": "code",
      "metadata": {
        "id": "NCipnFMo86Ed",
        "colab": {
          "base_uri": "https://localhost:8080/"
        },
        "outputId": "554bb0d1-64cc-4572-8d06-3e39a929c32e"
      },
      "source": [
        "df.isna().mean()*100"
      ],
      "execution_count": 50,
      "outputs": [
        {
          "output_type": "execute_result",
          "data": {
            "text/plain": [
              "customerID          0.0\n",
              "gender              0.0\n",
              "SeniorCitizen       0.0\n",
              "Partner             0.0\n",
              "Dependents          0.0\n",
              "tenure              0.0\n",
              "PhoneService        0.0\n",
              "MultipleLines       0.0\n",
              "InternetService     0.0\n",
              "OnlineSecurity      0.0\n",
              "OnlineBackup        0.0\n",
              "DeviceProtection    0.0\n",
              "TechSupport         0.0\n",
              "StreamingTV         0.0\n",
              "StreamingMovies     0.0\n",
              "Contract            0.0\n",
              "PaperlessBilling    0.0\n",
              "PaymentMethod       0.0\n",
              "MonthlyCharges      0.0\n",
              "TotalCharges        0.0\n",
              "Churn               0.0\n",
              "dtype: float64"
            ]
          },
          "metadata": {
            "tags": []
          },
          "execution_count": 50
        }
      ]
    },
    {
      "cell_type": "code",
      "metadata": {
        "id": "sq1CBnBvBsIe",
        "colab": {
          "base_uri": "https://localhost:8080/"
        },
        "outputId": "1025bd03-70ac-4c78-921c-4d3ab581a678"
      },
      "source": [
        "for i in df.columns[1:]:\n",
        "  print(f\"{i}: \\n{df[i].value_counts()} \\n\")"
      ],
      "execution_count": 51,
      "outputs": [
        {
          "output_type": "stream",
          "text": [
            "gender: \n",
            "Male      3555\n",
            "Female    3488\n",
            "Name: gender, dtype: int64 \n",
            "\n",
            "SeniorCitizen: \n",
            "0    5901\n",
            "1    1142\n",
            "Name: SeniorCitizen, dtype: int64 \n",
            "\n",
            "Partner: \n",
            "No     3641\n",
            "Yes    3402\n",
            "Name: Partner, dtype: int64 \n",
            "\n",
            "Dependents: \n",
            "No     4933\n",
            "Yes    2110\n",
            "Name: Dependents, dtype: int64 \n",
            "\n",
            "tenure: \n",
            "1     613\n",
            "72    362\n",
            "2     238\n",
            "3     200\n",
            "4     176\n",
            "     ... \n",
            "28     57\n",
            "39     56\n",
            "44     51\n",
            "36     50\n",
            "0      11\n",
            "Name: tenure, Length: 73, dtype: int64 \n",
            "\n",
            "PhoneService: \n",
            "Yes    6361\n",
            "No      682\n",
            "Name: PhoneService, dtype: int64 \n",
            "\n",
            "MultipleLines: \n",
            "No                  3390\n",
            "Yes                 2971\n",
            "No phone service     682\n",
            "Name: MultipleLines, dtype: int64 \n",
            "\n",
            "InternetService: \n",
            "Fiber optic    3096\n",
            "DSL            2421\n",
            "No             1526\n",
            "Name: InternetService, dtype: int64 \n",
            "\n",
            "OnlineSecurity: \n",
            "No                     3498\n",
            "Yes                    2019\n",
            "No internet service    1526\n",
            "Name: OnlineSecurity, dtype: int64 \n",
            "\n",
            "OnlineBackup: \n",
            "No                     3088\n",
            "Yes                    2429\n",
            "No internet service    1526\n",
            "Name: OnlineBackup, dtype: int64 \n",
            "\n",
            "DeviceProtection: \n",
            "No                     3095\n",
            "Yes                    2422\n",
            "No internet service    1526\n",
            "Name: DeviceProtection, dtype: int64 \n",
            "\n",
            "TechSupport: \n",
            "No                     3473\n",
            "Yes                    2044\n",
            "No internet service    1526\n",
            "Name: TechSupport, dtype: int64 \n",
            "\n",
            "StreamingTV: \n",
            "No                     2810\n",
            "Yes                    2707\n",
            "No internet service    1526\n",
            "Name: StreamingTV, dtype: int64 \n",
            "\n",
            "StreamingMovies: \n",
            "No                     2785\n",
            "Yes                    2732\n",
            "No internet service    1526\n",
            "Name: StreamingMovies, dtype: int64 \n",
            "\n",
            "Contract: \n",
            "Month-to-month    3875\n",
            "Two year          1695\n",
            "One year          1473\n",
            "Name: Contract, dtype: int64 \n",
            "\n",
            "PaperlessBilling: \n",
            "Yes    4171\n",
            "No     2872\n",
            "Name: PaperlessBilling, dtype: int64 \n",
            "\n",
            "PaymentMethod: \n",
            "Electronic check             2365\n",
            "Mailed check                 1612\n",
            "Bank transfer (automatic)    1544\n",
            "Credit card (automatic)      1522\n",
            "Name: PaymentMethod, dtype: int64 \n",
            "\n",
            "MonthlyCharges: \n",
            "20.05     61\n",
            "19.85     45\n",
            "19.95     44\n",
            "19.90     44\n",
            "20.00     43\n",
            "          ..\n",
            "114.75     1\n",
            "103.60     1\n",
            "113.40     1\n",
            "57.65      1\n",
            "113.30     1\n",
            "Name: MonthlyCharges, Length: 1585, dtype: int64 \n",
            "\n",
            "TotalCharges: \n",
            "20.2       11\n",
            "           11\n",
            "19.75       9\n",
            "20.05       8\n",
            "19.65       8\n",
            "           ..\n",
            "994.8       1\n",
            "5224.5      1\n",
            "732.5       1\n",
            "4526.85     1\n",
            "1740.8      1\n",
            "Name: TotalCharges, Length: 6531, dtype: int64 \n",
            "\n",
            "Churn: \n",
            "No     5174\n",
            "Yes    1869\n",
            "Name: Churn, dtype: int64 \n",
            "\n"
          ],
          "name": "stdout"
        }
      ]
    },
    {
      "cell_type": "code",
      "metadata": {
        "id": "BxwSgj_YBsNO"
      },
      "source": [
        "df=df.replace({'No internet service':0,'Yes':1,'No':0,'Month-to-month':0,'Two year':2,'One year':1,'No phone service':0,'Male':0,'Female':1,'DSL':1,'Fiber optic':2,'No':0})"
      ],
      "execution_count": 52,
      "outputs": []
    },
    {
      "cell_type": "code",
      "metadata": {
        "id": "GL6fW1OgBsSk",
        "colab": {
          "base_uri": "https://localhost:8080/",
          "height": 247
        },
        "outputId": "cb4d9730-e8d9-48ca-82c3-3c5f553f7240"
      },
      "source": [
        "dummies = pd.get_dummies(df['PaymentMethod'],prefix='pay_')\n",
        "for i in dummies.columns:\n",
        "  df[i]= dummies[i]\n",
        "df.drop('PaymentMethod',axis=1,inplace=True)\n",
        "df.head(3)"
      ],
      "execution_count": 53,
      "outputs": [
        {
          "output_type": "execute_result",
          "data": {
            "text/html": [
              "<div>\n",
              "<style scoped>\n",
              "    .dataframe tbody tr th:only-of-type {\n",
              "        vertical-align: middle;\n",
              "    }\n",
              "\n",
              "    .dataframe tbody tr th {\n",
              "        vertical-align: top;\n",
              "    }\n",
              "\n",
              "    .dataframe thead th {\n",
              "        text-align: right;\n",
              "    }\n",
              "</style>\n",
              "<table border=\"1\" class=\"dataframe\">\n",
              "  <thead>\n",
              "    <tr style=\"text-align: right;\">\n",
              "      <th></th>\n",
              "      <th>customerID</th>\n",
              "      <th>gender</th>\n",
              "      <th>SeniorCitizen</th>\n",
              "      <th>Partner</th>\n",
              "      <th>Dependents</th>\n",
              "      <th>tenure</th>\n",
              "      <th>PhoneService</th>\n",
              "      <th>MultipleLines</th>\n",
              "      <th>InternetService</th>\n",
              "      <th>OnlineSecurity</th>\n",
              "      <th>OnlineBackup</th>\n",
              "      <th>DeviceProtection</th>\n",
              "      <th>TechSupport</th>\n",
              "      <th>StreamingTV</th>\n",
              "      <th>StreamingMovies</th>\n",
              "      <th>Contract</th>\n",
              "      <th>PaperlessBilling</th>\n",
              "      <th>MonthlyCharges</th>\n",
              "      <th>TotalCharges</th>\n",
              "      <th>Churn</th>\n",
              "      <th>pay__Bank transfer (automatic)</th>\n",
              "      <th>pay__Credit card (automatic)</th>\n",
              "      <th>pay__Electronic check</th>\n",
              "      <th>pay__Mailed check</th>\n",
              "    </tr>\n",
              "  </thead>\n",
              "  <tbody>\n",
              "    <tr>\n",
              "      <th>0</th>\n",
              "      <td>7590-VHVEG</td>\n",
              "      <td>1</td>\n",
              "      <td>0</td>\n",
              "      <td>1</td>\n",
              "      <td>0</td>\n",
              "      <td>1</td>\n",
              "      <td>0</td>\n",
              "      <td>0</td>\n",
              "      <td>1</td>\n",
              "      <td>0</td>\n",
              "      <td>1</td>\n",
              "      <td>0</td>\n",
              "      <td>0</td>\n",
              "      <td>0</td>\n",
              "      <td>0</td>\n",
              "      <td>0</td>\n",
              "      <td>1</td>\n",
              "      <td>29.85</td>\n",
              "      <td>29.85</td>\n",
              "      <td>0</td>\n",
              "      <td>0</td>\n",
              "      <td>0</td>\n",
              "      <td>1</td>\n",
              "      <td>0</td>\n",
              "    </tr>\n",
              "    <tr>\n",
              "      <th>1</th>\n",
              "      <td>5575-GNVDE</td>\n",
              "      <td>0</td>\n",
              "      <td>0</td>\n",
              "      <td>0</td>\n",
              "      <td>0</td>\n",
              "      <td>34</td>\n",
              "      <td>1</td>\n",
              "      <td>0</td>\n",
              "      <td>1</td>\n",
              "      <td>1</td>\n",
              "      <td>0</td>\n",
              "      <td>1</td>\n",
              "      <td>0</td>\n",
              "      <td>0</td>\n",
              "      <td>0</td>\n",
              "      <td>1</td>\n",
              "      <td>0</td>\n",
              "      <td>56.95</td>\n",
              "      <td>1889.5</td>\n",
              "      <td>0</td>\n",
              "      <td>0</td>\n",
              "      <td>0</td>\n",
              "      <td>0</td>\n",
              "      <td>1</td>\n",
              "    </tr>\n",
              "    <tr>\n",
              "      <th>2</th>\n",
              "      <td>3668-QPYBK</td>\n",
              "      <td>0</td>\n",
              "      <td>0</td>\n",
              "      <td>0</td>\n",
              "      <td>0</td>\n",
              "      <td>2</td>\n",
              "      <td>1</td>\n",
              "      <td>0</td>\n",
              "      <td>1</td>\n",
              "      <td>1</td>\n",
              "      <td>1</td>\n",
              "      <td>0</td>\n",
              "      <td>0</td>\n",
              "      <td>0</td>\n",
              "      <td>0</td>\n",
              "      <td>0</td>\n",
              "      <td>1</td>\n",
              "      <td>53.85</td>\n",
              "      <td>108.15</td>\n",
              "      <td>1</td>\n",
              "      <td>0</td>\n",
              "      <td>0</td>\n",
              "      <td>0</td>\n",
              "      <td>1</td>\n",
              "    </tr>\n",
              "  </tbody>\n",
              "</table>\n",
              "</div>"
            ],
            "text/plain": [
              "   customerID  gender  ...  pay__Electronic check  pay__Mailed check\n",
              "0  7590-VHVEG       1  ...                      1                  0\n",
              "1  5575-GNVDE       0  ...                      0                  1\n",
              "2  3668-QPYBK       0  ...                      0                  1\n",
              "\n",
              "[3 rows x 24 columns]"
            ]
          },
          "metadata": {
            "tags": []
          },
          "execution_count": 53
        }
      ]
    },
    {
      "cell_type": "code",
      "metadata": {
        "id": "z1QrpVx0JEpE"
      },
      "source": [
        ""
      ],
      "execution_count": 53,
      "outputs": []
    },
    {
      "cell_type": "code",
      "metadata": {
        "id": "Ddl0HTAU86It"
      },
      "source": [
        "x = df.iloc[:,[1,2,3,4,5,6,7,8,9,10,11,12,13,14,15,16,17,18,20,21,22,23]]\n",
        "y = df.iloc[:,19]\n"
      ],
      "execution_count": 54,
      "outputs": []
    },
    {
      "cell_type": "code",
      "metadata": {
        "colab": {
          "base_uri": "https://localhost:8080/",
          "height": 306
        },
        "id": "P7eCNn60beIm",
        "outputId": "75202703-6136-4ff7-ae05-4f550ec8ce0e"
      },
      "source": [
        "sns.heatmap(x)"
      ],
      "execution_count": 55,
      "outputs": [
        {
          "output_type": "error",
          "ename": "ValueError",
          "evalue": "ignored",
          "traceback": [
            "\u001b[0;31m---------------------------------------------------------------------------\u001b[0m",
            "\u001b[0;31mValueError\u001b[0m                                Traceback (most recent call last)",
            "\u001b[0;32m<ipython-input-55-f2459617224a>\u001b[0m in \u001b[0;36m<module>\u001b[0;34m()\u001b[0m\n\u001b[0;32m----> 1\u001b[0;31m \u001b[0msns\u001b[0m\u001b[0;34m.\u001b[0m\u001b[0mheatmap\u001b[0m\u001b[0;34m(\u001b[0m\u001b[0mx\u001b[0m\u001b[0;34m)\u001b[0m\u001b[0;34m\u001b[0m\u001b[0;34m\u001b[0m\u001b[0m\n\u001b[0m",
            "\u001b[0;32m/usr/local/lib/python3.7/dist-packages/seaborn/_decorators.py\u001b[0m in \u001b[0;36minner_f\u001b[0;34m(*args, **kwargs)\u001b[0m\n\u001b[1;32m     44\u001b[0m             )\n\u001b[1;32m     45\u001b[0m         \u001b[0mkwargs\u001b[0m\u001b[0;34m.\u001b[0m\u001b[0mupdate\u001b[0m\u001b[0;34m(\u001b[0m\u001b[0;34m{\u001b[0m\u001b[0mk\u001b[0m\u001b[0;34m:\u001b[0m \u001b[0marg\u001b[0m \u001b[0;32mfor\u001b[0m \u001b[0mk\u001b[0m\u001b[0;34m,\u001b[0m \u001b[0marg\u001b[0m \u001b[0;32min\u001b[0m \u001b[0mzip\u001b[0m\u001b[0;34m(\u001b[0m\u001b[0msig\u001b[0m\u001b[0;34m.\u001b[0m\u001b[0mparameters\u001b[0m\u001b[0;34m,\u001b[0m \u001b[0margs\u001b[0m\u001b[0;34m)\u001b[0m\u001b[0;34m}\u001b[0m\u001b[0;34m)\u001b[0m\u001b[0;34m\u001b[0m\u001b[0;34m\u001b[0m\u001b[0m\n\u001b[0;32m---> 46\u001b[0;31m         \u001b[0;32mreturn\u001b[0m \u001b[0mf\u001b[0m\u001b[0;34m(\u001b[0m\u001b[0;34m**\u001b[0m\u001b[0mkwargs\u001b[0m\u001b[0;34m)\u001b[0m\u001b[0;34m\u001b[0m\u001b[0;34m\u001b[0m\u001b[0m\n\u001b[0m\u001b[1;32m     47\u001b[0m     \u001b[0;32mreturn\u001b[0m \u001b[0minner_f\u001b[0m\u001b[0;34m\u001b[0m\u001b[0;34m\u001b[0m\u001b[0m\n\u001b[1;32m     48\u001b[0m \u001b[0;34m\u001b[0m\u001b[0m\n",
            "\u001b[0;32m/usr/local/lib/python3.7/dist-packages/seaborn/matrix.py\u001b[0m in \u001b[0;36mheatmap\u001b[0;34m(data, vmin, vmax, cmap, center, robust, annot, fmt, annot_kws, linewidths, linecolor, cbar, cbar_kws, cbar_ax, square, xticklabels, yticklabels, mask, ax, **kwargs)\u001b[0m\n\u001b[1;32m    535\u001b[0m     plotter = _HeatMapper(data, vmin, vmax, cmap, center, robust, annot, fmt,\n\u001b[1;32m    536\u001b[0m                           \u001b[0mannot_kws\u001b[0m\u001b[0;34m,\u001b[0m \u001b[0mcbar\u001b[0m\u001b[0;34m,\u001b[0m \u001b[0mcbar_kws\u001b[0m\u001b[0;34m,\u001b[0m \u001b[0mxticklabels\u001b[0m\u001b[0;34m,\u001b[0m\u001b[0;34m\u001b[0m\u001b[0;34m\u001b[0m\u001b[0m\n\u001b[0;32m--> 537\u001b[0;31m                           yticklabels, mask)\n\u001b[0m\u001b[1;32m    538\u001b[0m \u001b[0;34m\u001b[0m\u001b[0m\n\u001b[1;32m    539\u001b[0m     \u001b[0;31m# Add the pcolormesh kwargs here\u001b[0m\u001b[0;34m\u001b[0m\u001b[0;34m\u001b[0m\u001b[0;34m\u001b[0m\u001b[0m\n",
            "\u001b[0;32m/usr/local/lib/python3.7/dist-packages/seaborn/matrix.py\u001b[0m in \u001b[0;36m__init__\u001b[0;34m(self, data, vmin, vmax, cmap, center, robust, annot, fmt, annot_kws, cbar, cbar_kws, xticklabels, yticklabels, mask)\u001b[0m\n\u001b[1;32m    154\u001b[0m         \u001b[0;31m# Determine good default values for the colormapping\u001b[0m\u001b[0;34m\u001b[0m\u001b[0;34m\u001b[0m\u001b[0;34m\u001b[0m\u001b[0m\n\u001b[1;32m    155\u001b[0m         self._determine_cmap_params(plot_data, vmin, vmax,\n\u001b[0;32m--> 156\u001b[0;31m                                     cmap, center, robust)\n\u001b[0m\u001b[1;32m    157\u001b[0m \u001b[0;34m\u001b[0m\u001b[0m\n\u001b[1;32m    158\u001b[0m         \u001b[0;31m# Sort out the annotations\u001b[0m\u001b[0;34m\u001b[0m\u001b[0;34m\u001b[0m\u001b[0;34m\u001b[0m\u001b[0m\n",
            "\u001b[0;32m/usr/local/lib/python3.7/dist-packages/seaborn/matrix.py\u001b[0m in \u001b[0;36m_determine_cmap_params\u001b[0;34m(self, plot_data, vmin, vmax, cmap, center, robust)\u001b[0m\n\u001b[1;32m    187\u001b[0m \u001b[0;34m\u001b[0m\u001b[0m\n\u001b[1;32m    188\u001b[0m         \u001b[0;31m# plot_data is a np.ma.array instance\u001b[0m\u001b[0;34m\u001b[0m\u001b[0;34m\u001b[0m\u001b[0;34m\u001b[0m\u001b[0m\n\u001b[0;32m--> 189\u001b[0;31m         \u001b[0mcalc_data\u001b[0m \u001b[0;34m=\u001b[0m \u001b[0mplot_data\u001b[0m\u001b[0;34m.\u001b[0m\u001b[0mastype\u001b[0m\u001b[0;34m(\u001b[0m\u001b[0mfloat\u001b[0m\u001b[0;34m)\u001b[0m\u001b[0;34m.\u001b[0m\u001b[0mfilled\u001b[0m\u001b[0;34m(\u001b[0m\u001b[0mnp\u001b[0m\u001b[0;34m.\u001b[0m\u001b[0mnan\u001b[0m\u001b[0;34m)\u001b[0m\u001b[0;34m\u001b[0m\u001b[0;34m\u001b[0m\u001b[0m\n\u001b[0m\u001b[1;32m    190\u001b[0m         \u001b[0;32mif\u001b[0m \u001b[0mvmin\u001b[0m \u001b[0;32mis\u001b[0m \u001b[0;32mNone\u001b[0m\u001b[0;34m:\u001b[0m\u001b[0;34m\u001b[0m\u001b[0;34m\u001b[0m\u001b[0m\n\u001b[1;32m    191\u001b[0m             \u001b[0;32mif\u001b[0m \u001b[0mrobust\u001b[0m\u001b[0;34m:\u001b[0m\u001b[0;34m\u001b[0m\u001b[0;34m\u001b[0m\u001b[0m\n",
            "\u001b[0;31mValueError\u001b[0m: could not convert string to float: "
          ]
        }
      ]
    },
    {
      "cell_type": "markdown",
      "metadata": {
        "id": "bTq85W0WbltK"
      },
      "source": [
        "There is a string value still in the data lets find it"
      ]
    },
    {
      "cell_type": "code",
      "metadata": {
        "id": "Mmf2l_Gc86Xv",
        "colab": {
          "base_uri": "https://localhost:8080/"
        },
        "outputId": "7fb514e2-9b88-4f40-f923-8a33fc0bfb00"
      },
      "source": [
        "for i in x.columns:\n",
        "  print(type(x[i][0]))"
      ],
      "execution_count": 56,
      "outputs": [
        {
          "output_type": "stream",
          "text": [
            "<class 'numpy.int64'>\n",
            "<class 'numpy.int64'>\n",
            "<class 'numpy.int64'>\n",
            "<class 'numpy.int64'>\n",
            "<class 'numpy.int64'>\n",
            "<class 'numpy.int64'>\n",
            "<class 'numpy.int64'>\n",
            "<class 'numpy.int64'>\n",
            "<class 'numpy.int64'>\n",
            "<class 'numpy.int64'>\n",
            "<class 'numpy.int64'>\n",
            "<class 'numpy.int64'>\n",
            "<class 'numpy.int64'>\n",
            "<class 'numpy.int64'>\n",
            "<class 'numpy.int64'>\n",
            "<class 'numpy.int64'>\n",
            "<class 'numpy.float64'>\n",
            "<class 'str'>\n",
            "<class 'numpy.uint8'>\n",
            "<class 'numpy.uint8'>\n",
            "<class 'numpy.uint8'>\n",
            "<class 'numpy.uint8'>\n"
          ],
          "name": "stdout"
        }
      ]
    },
    {
      "cell_type": "markdown",
      "metadata": {
        "id": "4Ai_19hMcDyA"
      },
      "source": [
        "So the 18th column still have string value"
      ]
    },
    {
      "cell_type": "code",
      "metadata": {
        "id": "UakCmVLYbeQx"
      },
      "source": [
        ""
      ],
      "execution_count": 56,
      "outputs": []
    },
    {
      "cell_type": "code",
      "metadata": {
        "colab": {
          "base_uri": "https://localhost:8080/",
          "height": 1000
        },
        "id": "9a3SQWChK66y",
        "outputId": "7512e086-564d-40d4-9c9d-3e7fb61a3224"
      },
      "source": [
        "for a,i in enumerate(x['TotalCharges']):\n",
        "  \n",
        "  print(a,float(i))\n",
        "\n"
      ],
      "execution_count": 57,
      "outputs": [
        {
          "output_type": "stream",
          "text": [
            "0 29.85\n",
            "1 1889.5\n",
            "2 108.15\n",
            "3 1840.75\n",
            "4 151.65\n",
            "5 820.5\n",
            "6 1949.4\n",
            "7 301.9\n",
            "8 3046.05\n",
            "9 3487.95\n",
            "10 587.45\n",
            "11 326.8\n",
            "12 5681.1\n",
            "13 5036.3\n",
            "14 2686.05\n",
            "15 7895.15\n",
            "16 1022.95\n",
            "17 7382.25\n",
            "18 528.35\n",
            "19 1862.9\n",
            "20 39.65\n",
            "21 202.25\n",
            "22 20.15\n",
            "23 3505.1\n",
            "24 2970.3\n",
            "25 1530.6\n",
            "26 4749.15\n",
            "27 30.2\n",
            "28 6369.45\n",
            "29 1093.1\n",
            "30 6766.95\n",
            "31 181.65\n",
            "32 1874.45\n",
            "33 20.2\n",
            "34 45.25\n",
            "35 7251.7\n",
            "36 316.9\n",
            "37 3548.3\n",
            "38 3549.25\n",
            "39 1105.4\n",
            "40 475.7\n",
            "41 4872.35\n",
            "42 418.25\n",
            "43 4861.45\n",
            "44 981.45\n",
            "45 3906.7\n",
            "46 97.0\n",
            "47 144.15\n",
            "48 4217.8\n",
            "49 4254.1\n",
            "50 3838.75\n",
            "51 1426.4\n",
            "52 1752.65\n",
            "53 633.3\n",
            "54 4456.35\n",
            "55 1752.55\n",
            "56 6311.2\n",
            "57 7076.35\n",
            "58 894.3\n",
            "59 7853.7\n",
            "60 4707.1\n",
            "61 5450.7\n",
            "62 2962.0\n",
            "63 957.1\n",
            "64 857.25\n",
            "65 244.1\n",
            "66 3650.35\n",
            "67 2497.2\n",
            "68 930.9\n",
            "69 887.35\n",
            "70 49.05\n",
            "71 1090.65\n",
            "72 7099.0\n",
            "73 1424.6\n",
            "74 177.4\n",
            "75 6139.5\n",
            "76 2688.85\n",
            "77 482.25\n",
            "78 2111.3\n",
            "79 1216.6\n",
            "80 79.35\n",
            "81 565.35\n",
            "82 496.9\n",
            "83 4327.5\n",
            "84 973.35\n",
            "85 918.75\n",
            "86 2215.45\n",
            "87 1057.0\n",
            "88 927.1\n",
            "89 1009.25\n",
            "90 2570.2\n",
            "91 74.7\n",
            "92 5714.25\n",
            "93 7107.0\n",
            "94 7459.05\n",
            "95 927.35\n",
            "96 4748.7\n",
            "97 113.85\n",
            "98 1107.2\n",
            "99 2514.5\n",
            "100 20.2\n",
            "101 19.45\n",
            "102 3605.6\n",
            "103 3027.25\n",
            "104 7611.85\n",
            "105 100.2\n",
            "106 7303.05\n",
            "107 927.65\n",
            "108 3921.3\n",
            "109 1363.25\n",
            "110 5238.9\n",
            "111 3042.25\n",
            "112 3954.1\n",
            "113 2868.15\n",
            "114 3423.5\n",
            "115 248.4\n",
            "116 1126.35\n",
            "117 1064.65\n",
            "118 835.15\n",
            "119 2151.6\n",
            "120 5515.45\n",
            "121 112.75\n",
            "122 229.55\n",
            "123 350.35\n",
            "124 62.9\n",
            "125 3027.65\n",
            "126 2135.5\n",
            "127 1723.95\n",
            "128 19.75\n",
            "129 3985.35\n",
            "130 1215.65\n",
            "131 1502.65\n",
            "132 3260.1\n",
            "133 35.45\n",
            "134 81.25\n",
            "135 1188.2\n",
            "136 1778.5\n",
            "137 1277.75\n",
            "138 1170.55\n",
            "139 70.45\n",
            "140 6425.65\n",
            "141 563.65\n",
            "142 5971.25\n",
            "143 5289.05\n",
            "144 1756.2\n",
            "145 6416.7\n",
            "146 61.35\n",
            "147 45.65\n",
            "148 1929.95\n",
            "149 1071.4\n",
            "150 564.35\n",
            "151 655.5\n",
            "152 7930.55\n",
            "153 5215.25\n",
            "154 113.5\n",
            "155 1152.8\n",
            "156 1821.95\n",
            "157 419.9\n",
            "158 1024.0\n",
            "159 251.6\n",
            "160 764.55\n",
            "161 1592.35\n",
            "162 135.2\n",
            "163 3958.25\n",
            "164 233.9\n",
            "165 1363.45\n",
            "166 273.0\n",
            "167 6254.45\n",
            "168 2651.2\n",
            "169 321.4\n",
            "170 3539.25\n",
            "171 242.8\n",
            "172 1181.75\n",
            "173 5000.2\n",
            "174 654.55\n",
            "175 780.2\n",
            "176 1145.7\n",
            "177 503.6\n",
            "178 1559.25\n",
            "179 1252.0\n",
            "180 29.95\n",
            "181 45.3\n",
            "182 662.65\n",
            "183 2453.3\n",
            "184 1111.65\n",
            "185 24.8\n",
            "186 1023.85\n",
            "187 82.15\n",
            "188 244.8\n",
            "189 2379.1\n",
            "190 3173.35\n",
            "191 531.0\n",
            "192 1375.4\n",
            "193 8129.3\n",
            "194 1192.7\n",
            "195 1901.65\n",
            "196 587.4\n",
            "197 6519.75\n",
            "198 8041.65\n",
            "199 20.75\n",
            "200 2681.15\n",
            "201 1112.3\n",
            "202 7405.5\n",
            "203 1033.95\n",
            "204 2958.95\n",
            "205 2684.85\n",
            "206 4179.2\n",
            "207 79.9\n",
            "208 1934.45\n",
            "209 6654.1\n",
            "210 84.5\n",
            "211 25.25\n",
            "212 1124.2\n",
            "213 540.05\n",
            "214 1975.85\n",
            "215 3437.45\n",
            "216 3139.8\n",
            "217 3789.2\n",
            "218 5324.5\n",
            "219 624.6\n",
            "220 268.35\n",
            "221 1836.9\n",
            "222 20.2\n",
            "223 179.35\n",
            "224 219.35\n",
            "225 1288.75\n",
            "226 2545.75\n",
            "227 55.2\n",
            "228 2723.15\n",
            "229 4107.25\n",
            "230 5760.65\n",
            "231 4747.5\n",
            "232 84.6\n",
            "233 1566.9\n",
            "234 702.0\n",
            "235 114.1\n",
            "236 299.05\n",
            "237 1305.95\n",
            "238 1120.3\n",
            "239 284.35\n",
            "240 6350.5\n",
            "241 7878.3\n",
            "242 3187.65\n",
            "243 6126.15\n",
            "244 731.3\n",
            "245 273.4\n",
            "246 2531.8\n",
            "247 1074.3\n",
            "248 48.55\n",
            "249 4298.45\n",
            "250 4619.55\n",
            "251 147.15\n",
            "252 40.2\n",
            "253 2633.3\n",
            "254 193.05\n",
            "255 4103.9\n",
            "256 7008.15\n",
            "257 5791.1\n",
            "258 80.55\n",
            "259 1228.65\n",
            "260 132.2\n",
            "261 1364.3\n",
            "262 4925.35\n",
            "263 1520.1\n",
            "264 5032.25\n",
            "265 5526.75\n",
            "266 1195.25\n",
            "267 2007.25\n",
            "268 1099.6\n",
            "269 1732.95\n",
            "270 1511.2\n",
            "271 3450.15\n",
            "272 24.8\n",
            "273 2172.05\n",
            "274 70.6\n",
            "275 401.1\n",
            "276 5624.85\n",
            "277 1339.8\n",
            "278 771.95\n",
            "279 244.75\n",
            "280 322.9\n",
            "281 498.25\n",
            "282 25.4\n",
            "283 3687.75\n",
            "284 1779.95\n",
            "285 1783.6\n",
            "286 927.15\n",
            "287 70.0\n",
            "288 606.55\n",
            "289 435.4\n",
            "290 1712.7\n",
            "291 2021.2\n",
            "292 1940.8\n",
            "293 567.8\n",
            "294 220.35\n",
            "295 20.25\n",
            "296 5436.45\n",
            "297 3437.5\n",
            "298 3015.75\n",
            "299 73.6\n",
            "300 1509.8\n",
            "301 396.1\n",
            "302 356.65\n",
            "303 4109.0\n",
            "304 3141.7\n",
            "305 1229.1\n",
            "306 2303.35\n",
            "307 2054.4\n",
            "308 3741.85\n",
            "309 3682.45\n",
            "310 19.25\n",
            "311 1886.25\n",
            "312 4895.1\n",
            "313 341.6\n",
            "314 415.55\n",
            "315 5686.4\n",
            "316 1355.1\n",
            "317 3058.65\n",
            "318 2231.05\n",
            "319 3236.35\n",
            "320 4350.1\n",
            "321 4264.0\n",
            "322 44.8\n",
            "323 422.3\n",
            "324 4176.7\n",
            "325 5138.1\n",
            "326 880.05\n",
            "327 139.05\n",
            "328 973.65\n",
            "329 1470.05\n",
            "330 739.35\n",
            "331 161.95\n",
            "332 4422.95\n",
            "333 511.25\n",
            "334 155.8\n",
            "335 5293.95\n",
            "336 4759.85\n",
            "337 6148.45\n",
            "338 3565.65\n",
            "339 6603.0\n",
            "340 1830.1\n",
            "341 6223.8\n",
            "342 4508.65\n",
            "343 1328.15\n",
            "344 865.0\n",
            "345 72.1\n",
            "346 168.2\n",
            "347 1303.5\n",
            "348 996.85\n",
            "349 6430.9\n",
            "350 2278.75\n",
            "351 681.4\n",
            "352 574.35\n",
            "353 371.9\n",
            "354 840.1\n",
            "355 846.0\n",
            "356 889.0\n",
            "357 6823.4\n",
            "358 805.1\n",
            "359 4016.75\n",
            "360 83.75\n",
            "361 3959.15\n",
            "362 2878.55\n",
            "363 945.7\n",
            "364 1373.05\n",
            "365 492.55\n",
            "366 1406.0\n",
            "367 19.15\n",
            "368 6962.85\n",
            "369 8126.65\n",
            "370 690.25\n",
            "371 181.5\n",
            "372 830.8\n",
            "373 5608.4\n",
            "374 3646.8\n",
            "375 3662.25\n",
            "376 25.35\n",
            "377 2566.5\n",
            "378 5308.7\n",
            "379 1410.25\n",
            "380 3339.05\n",
            "381 50.65\n",
            "382 4732.35\n",
            "383 90.85\n",
            "384 5067.45\n",
            "385 214.75\n",
            "386 4874.7\n",
            "387 2348.45\n",
            "388 4063.0\n",
            "389 44.0\n",
            "390 2595.25\n",
            "391 2309.55\n",
            "392 89.3\n",
            "393 367.55\n",
            "394 3944.5\n",
            "395 5965.95\n",
            "396 3694.7\n",
            "397 2524.45\n",
            "398 1803.7\n",
            "399 415.1\n",
            "400 624.15\n",
            "401 237.7\n",
            "402 7007.6\n",
            "403 3848.8\n",
            "404 419.4\n",
            "405 1468.75\n",
            "406 5812.0\n",
            "407 2861.45\n",
            "408 19.9\n",
            "409 19.6\n",
            "410 233.7\n",
            "411 1066.15\n",
            "412 2149.05\n",
            "413 4473.0\n",
            "414 3545.05\n",
            "415 1195.75\n",
            "416 6858.9\n",
            "417 1024.7\n",
            "418 1845.9\n",
            "419 75.3\n",
            "420 132.25\n",
            "421 515.45\n",
            "422 2830.45\n",
            "423 1110.5\n",
            "424 449.3\n",
            "425 2838.55\n",
            "426 5376.4\n",
            "427 858.6\n",
            "428 1395.05\n",
            "429 3975.7\n",
            "430 1182.55\n",
            "431 4784.45\n",
            "432 119.5\n",
            "433 518.9\n",
            "434 899.45\n",
            "435 1183.8\n",
            "436 720.05\n",
            "437 8468.2\n",
            "438 3161.2\n",
            "439 55.05\n",
            "440 1882.55\n",
            "441 5070.4\n",
            "442 6049.5\n",
            "443 1166.7\n",
            "444 2937.65\n",
            "445 6396.45\n",
            "446 69.55\n",
            "447 1270.25\n",
            "448 759.55\n",
            "449 7611.55\n",
            "450 1642.75\n",
            "451 1545.4\n",
            "452 3582.4\n",
            "453 2227.1\n",
            "454 1417.9\n",
            "455 2494.65\n",
            "456 2768.35\n",
            "457 2369.3\n",
            "458 38.0\n",
            "459 75.1\n",
            "460 100.9\n",
            "461 1614.05\n",
            "462 385.9\n",
            "463 673.25\n",
            "464 8404.9\n",
            "465 2799.75\n",
            "466 6538.45\n",
            "467 6588.95\n",
            "468 868.1\n",
            "469 734.35\n",
            "470 330.6\n",
            "471 55.0\n",
            "472 564.4\n",
            "473 1315.35\n",
            "474 74.7\n",
            "475 1861.5\n",
            "476 2747.2\n",
            "477 554.05\n",
            "478 453.4\n",
            "479 994.8\n",
            "480 225.75\n",
            "481 2145.0\n",
            "482 1671.6\n",
            "483 8003.8\n",
            "484 680.05\n",
            "485 6130.85\n",
            "486 1415.0\n",
            "487 6201.95\n"
          ],
          "name": "stdout"
        },
        {
          "output_type": "error",
          "ename": "ValueError",
          "evalue": "ignored",
          "traceback": [
            "\u001b[0;31m---------------------------------------------------------------------------\u001b[0m",
            "\u001b[0;31mValueError\u001b[0m                                Traceback (most recent call last)",
            "\u001b[0;32m<ipython-input-57-b46cffa1198d>\u001b[0m in \u001b[0;36m<module>\u001b[0;34m()\u001b[0m\n\u001b[1;32m      1\u001b[0m \u001b[0;32mfor\u001b[0m \u001b[0ma\u001b[0m\u001b[0;34m,\u001b[0m\u001b[0mi\u001b[0m \u001b[0;32min\u001b[0m \u001b[0menumerate\u001b[0m\u001b[0;34m(\u001b[0m\u001b[0mx\u001b[0m\u001b[0;34m[\u001b[0m\u001b[0;34m'TotalCharges'\u001b[0m\u001b[0;34m]\u001b[0m\u001b[0;34m)\u001b[0m\u001b[0;34m:\u001b[0m\u001b[0;34m\u001b[0m\u001b[0;34m\u001b[0m\u001b[0m\n\u001b[1;32m      2\u001b[0m \u001b[0;34m\u001b[0m\u001b[0m\n\u001b[0;32m----> 3\u001b[0;31m   \u001b[0mprint\u001b[0m\u001b[0;34m(\u001b[0m\u001b[0ma\u001b[0m\u001b[0;34m,\u001b[0m\u001b[0mfloat\u001b[0m\u001b[0;34m(\u001b[0m\u001b[0mi\u001b[0m\u001b[0;34m)\u001b[0m\u001b[0;34m)\u001b[0m\u001b[0;34m\u001b[0m\u001b[0;34m\u001b[0m\u001b[0m\n\u001b[0m\u001b[1;32m      4\u001b[0m \u001b[0;34m\u001b[0m\u001b[0m\n",
            "\u001b[0;31mValueError\u001b[0m: could not convert string to float: "
          ]
        }
      ]
    },
    {
      "cell_type": "markdown",
      "metadata": {
        "id": "ggjRge3ucRTb"
      },
      "source": [
        "So the 488th row has the string value that's coercing variable to become string"
      ]
    },
    {
      "cell_type": "code",
      "metadata": {
        "colab": {
          "base_uri": "https://localhost:8080/",
          "height": 35
        },
        "id": "X48gkl5ocrQH",
        "outputId": "79c51351-0d5f-41c0-b3f8-071d1e4b156b"
      },
      "source": [
        "x.iloc[488]['TotalCharges']"
      ],
      "execution_count": 58,
      "outputs": [
        {
          "output_type": "execute_result",
          "data": {
            "application/vnd.google.colaboratory.intrinsic+json": {
              "type": "string"
            },
            "text/plain": [
              "' '"
            ]
          },
          "metadata": {
            "tags": []
          },
          "execution_count": 58
        }
      ]
    },
    {
      "cell_type": "code",
      "metadata": {
        "colab": {
          "base_uri": "https://localhost:8080/"
        },
        "id": "KIxM1blfaPCL",
        "outputId": "9059bbe6-b377-4ee1-b057-221fd51f5c0d"
      },
      "source": [
        "x.replace(' ',0,inplace=True)"
      ],
      "execution_count": 59,
      "outputs": [
        {
          "output_type": "stream",
          "text": [
            "/usr/local/lib/python3.7/dist-packages/pandas/core/frame.py:4389: SettingWithCopyWarning: \n",
            "A value is trying to be set on a copy of a slice from a DataFrame\n",
            "\n",
            "See the caveats in the documentation: https://pandas.pydata.org/pandas-docs/stable/user_guide/indexing.html#returning-a-view-versus-a-copy\n",
            "  method=method,\n"
          ],
          "name": "stderr"
        }
      ]
    },
    {
      "cell_type": "code",
      "metadata": {
        "colab": {
          "base_uri": "https://localhost:8080/"
        },
        "id": "WbNEy6X0ce9K",
        "outputId": "3883df13-14ff-4820-9d14-d8e2cfdf921d"
      },
      "source": [
        "for i in x['TotalCharges']:\n",
        "  x['TotalCharges']= float(i)"
      ],
      "execution_count": 60,
      "outputs": [
        {
          "output_type": "stream",
          "text": [
            "/usr/local/lib/python3.7/dist-packages/ipykernel_launcher.py:2: SettingWithCopyWarning: \n",
            "A value is trying to be set on a copy of a slice from a DataFrame.\n",
            "Try using .loc[row_indexer,col_indexer] = value instead\n",
            "\n",
            "See the caveats in the documentation: https://pandas.pydata.org/pandas-docs/stable/user_guide/indexing.html#returning-a-view-versus-a-copy\n",
            "  \n"
          ],
          "name": "stderr"
        }
      ]
    },
    {
      "cell_type": "code",
      "metadata": {
        "id": "y_MICEMbcfFq"
      },
      "source": [
        "from statsmodels.stats.outliers_influence import variance_inflation_factor\n",
        "\n",
        "def vif(x):\n",
        "  vif = pd.DataFrame()\n",
        "  vif[\"variables\"] = x.columns\n",
        "  vif[\"VIF\"] = [variance_inflation_factor(x.values, i) for i in range(x.shape[1])]\n",
        "\n",
        "  return(vif)\n",
        "\n"
      ],
      "execution_count": 61,
      "outputs": []
    },
    {
      "cell_type": "code",
      "metadata": {
        "colab": {
          "base_uri": "https://localhost:8080/"
        },
        "id": "N8sL9Xi7ofhT",
        "outputId": "19941612-f277-417c-842b-e0dce67b6660"
      },
      "source": [
        "x.columns"
      ],
      "execution_count": 62,
      "outputs": [
        {
          "output_type": "execute_result",
          "data": {
            "text/plain": [
              "Index(['gender', 'SeniorCitizen', 'Partner', 'Dependents', 'tenure',\n",
              "       'PhoneService', 'MultipleLines', 'InternetService', 'OnlineSecurity',\n",
              "       'OnlineBackup', 'DeviceProtection', 'TechSupport', 'StreamingTV',\n",
              "       'StreamingMovies', 'Contract', 'PaperlessBilling', 'MonthlyCharges',\n",
              "       'TotalCharges', 'pay__Bank transfer (automatic)',\n",
              "       'pay__Credit card (automatic)', 'pay__Electronic check',\n",
              "       'pay__Mailed check'],\n",
              "      dtype='object')"
            ]
          },
          "metadata": {
            "tags": []
          },
          "execution_count": 62
        }
      ]
    },
    {
      "cell_type": "code",
      "metadata": {
        "id": "9CtBqMsJ44ST",
        "colab": {
          "base_uri": "https://localhost:8080/",
          "height": 669
        },
        "outputId": "e421b3e7-0024-4027-95cd-fd301b51ed39"
      },
      "source": [
        "vif(x[['gender', 'SeniorCitizen', 'Partner', 'Dependents', 'tenure',\n",
        "       'PhoneService', 'MultipleLines', 'InternetService', 'OnlineSecurity',\n",
        "       'OnlineBackup', 'DeviceProtection', 'TechSupport', 'StreamingTV',\n",
        "       'StreamingMovies', 'Contract', 'PaperlessBilling', 'pay__Bank transfer (automatic)',\n",
        "       'pay__Credit card (automatic)', 'pay__Electronic check','pay__Mailed check']])"
      ],
      "execution_count": 63,
      "outputs": [
        {
          "output_type": "execute_result",
          "data": {
            "text/html": [
              "<div>\n",
              "<style scoped>\n",
              "    .dataframe tbody tr th:only-of-type {\n",
              "        vertical-align: middle;\n",
              "    }\n",
              "\n",
              "    .dataframe tbody tr th {\n",
              "        vertical-align: top;\n",
              "    }\n",
              "\n",
              "    .dataframe thead th {\n",
              "        text-align: right;\n",
              "    }\n",
              "</style>\n",
              "<table border=\"1\" class=\"dataframe\">\n",
              "  <thead>\n",
              "    <tr style=\"text-align: right;\">\n",
              "      <th></th>\n",
              "      <th>variables</th>\n",
              "      <th>VIF</th>\n",
              "    </tr>\n",
              "  </thead>\n",
              "  <tbody>\n",
              "    <tr>\n",
              "      <th>0</th>\n",
              "      <td>gender</td>\n",
              "      <td>1.001509</td>\n",
              "    </tr>\n",
              "    <tr>\n",
              "      <th>1</th>\n",
              "      <td>SeniorCitizen</td>\n",
              "      <td>1.152249</td>\n",
              "    </tr>\n",
              "    <tr>\n",
              "      <th>2</th>\n",
              "      <td>Partner</td>\n",
              "      <td>1.461997</td>\n",
              "    </tr>\n",
              "    <tr>\n",
              "      <th>3</th>\n",
              "      <td>Dependents</td>\n",
              "      <td>1.383544</td>\n",
              "    </tr>\n",
              "    <tr>\n",
              "      <th>4</th>\n",
              "      <td>tenure</td>\n",
              "      <td>2.729148</td>\n",
              "    </tr>\n",
              "    <tr>\n",
              "      <th>5</th>\n",
              "      <td>PhoneService</td>\n",
              "      <td>1.148409</td>\n",
              "    </tr>\n",
              "    <tr>\n",
              "      <th>6</th>\n",
              "      <td>MultipleLines</td>\n",
              "      <td>1.416247</td>\n",
              "    </tr>\n",
              "    <tr>\n",
              "      <th>7</th>\n",
              "      <td>InternetService</td>\n",
              "      <td>2.232338</td>\n",
              "    </tr>\n",
              "    <tr>\n",
              "      <th>8</th>\n",
              "      <td>OnlineSecurity</td>\n",
              "      <td>1.287407</td>\n",
              "    </tr>\n",
              "    <tr>\n",
              "      <th>9</th>\n",
              "      <td>OnlineBackup</td>\n",
              "      <td>1.344886</td>\n",
              "    </tr>\n",
              "    <tr>\n",
              "      <th>10</th>\n",
              "      <td>DeviceProtection</td>\n",
              "      <td>1.456482</td>\n",
              "    </tr>\n",
              "    <tr>\n",
              "      <th>11</th>\n",
              "      <td>TechSupport</td>\n",
              "      <td>1.372853</td>\n",
              "    </tr>\n",
              "    <tr>\n",
              "      <th>12</th>\n",
              "      <td>StreamingTV</td>\n",
              "      <td>1.624595</td>\n",
              "    </tr>\n",
              "    <tr>\n",
              "      <th>13</th>\n",
              "      <td>StreamingMovies</td>\n",
              "      <td>1.631600</td>\n",
              "    </tr>\n",
              "    <tr>\n",
              "      <th>14</th>\n",
              "      <td>Contract</td>\n",
              "      <td>2.442792</td>\n",
              "    </tr>\n",
              "    <tr>\n",
              "      <th>15</th>\n",
              "      <td>PaperlessBilling</td>\n",
              "      <td>1.207742</td>\n",
              "    </tr>\n",
              "    <tr>\n",
              "      <th>16</th>\n",
              "      <td>pay__Bank transfer (automatic)</td>\n",
              "      <td>5.054142</td>\n",
              "    </tr>\n",
              "    <tr>\n",
              "      <th>17</th>\n",
              "      <td>pay__Credit card (automatic)</td>\n",
              "      <td>4.944476</td>\n",
              "    </tr>\n",
              "    <tr>\n",
              "      <th>18</th>\n",
              "      <td>pay__Electronic check</td>\n",
              "      <td>6.957551</td>\n",
              "    </tr>\n",
              "    <tr>\n",
              "      <th>19</th>\n",
              "      <td>pay__Mailed check</td>\n",
              "      <td>4.248501</td>\n",
              "    </tr>\n",
              "  </tbody>\n",
              "</table>\n",
              "</div>"
            ],
            "text/plain": [
              "                         variables       VIF\n",
              "0                           gender  1.001509\n",
              "1                    SeniorCitizen  1.152249\n",
              "2                          Partner  1.461997\n",
              "3                       Dependents  1.383544\n",
              "4                           tenure  2.729148\n",
              "5                     PhoneService  1.148409\n",
              "6                    MultipleLines  1.416247\n",
              "7                  InternetService  2.232338\n",
              "8                   OnlineSecurity  1.287407\n",
              "9                     OnlineBackup  1.344886\n",
              "10                DeviceProtection  1.456482\n",
              "11                     TechSupport  1.372853\n",
              "12                     StreamingTV  1.624595\n",
              "13                 StreamingMovies  1.631600\n",
              "14                        Contract  2.442792\n",
              "15                PaperlessBilling  1.207742\n",
              "16  pay__Bank transfer (automatic)  5.054142\n",
              "17    pay__Credit card (automatic)  4.944476\n",
              "18           pay__Electronic check  6.957551\n",
              "19               pay__Mailed check  4.248501"
            ]
          },
          "metadata": {
            "tags": []
          },
          "execution_count": 63
        }
      ]
    },
    {
      "cell_type": "code",
      "metadata": {
        "id": "vhShayt5tHNF"
      },
      "source": [
        "x =x[['gender', 'SeniorCitizen', 'Partner', 'Dependents', 'tenure',\n",
        "       'PhoneService', 'MultipleLines', 'InternetService', 'OnlineSecurity',\n",
        "       'OnlineBackup', 'DeviceProtection', 'TechSupport', 'StreamingTV',\n",
        "       'StreamingMovies', 'Contract', 'PaperlessBilling', 'pay__Bank transfer (automatic)',\n",
        "       'pay__Credit card (automatic)', 'pay__Electronic check',\n",
        "       'pay__Mailed check']]"
      ],
      "execution_count": 64,
      "outputs": []
    },
    {
      "cell_type": "code",
      "metadata": {
        "colab": {
          "base_uri": "https://localhost:8080/"
        },
        "id": "4oNlOUD1s8s2",
        "outputId": "c2542dc5-2a19-4bac-89a6-d3344994c0e7"
      },
      "source": [
        "from sklearn.model_selection import train_test_split\n",
        "x_train,x_test,y_train,y_test = train_test_split(x,y)\n",
        "print(x_train.shape)\n",
        "print(y_train.shape)\n",
        "print(x_test.shape)\n",
        "print(y_test.shape)"
      ],
      "execution_count": 65,
      "outputs": [
        {
          "output_type": "stream",
          "text": [
            "(5282, 20)\n",
            "(5282,)\n",
            "(1761, 20)\n",
            "(1761,)\n"
          ],
          "name": "stdout"
        }
      ]
    },
    {
      "cell_type": "code",
      "metadata": {
        "id": "EhWY0S-u44WV",
        "colab": {
          "base_uri": "https://localhost:8080/"
        },
        "outputId": "d919e74e-7753-414e-ca8b-ad91c913d325"
      },
      "source": [
        "from sklearn.linear_model import LogisticRegression\n",
        "logit = LogisticRegression()\n",
        "logit.fit(x_train,y_train)\n"
      ],
      "execution_count": 66,
      "outputs": [
        {
          "output_type": "stream",
          "text": [
            "/usr/local/lib/python3.7/dist-packages/sklearn/linear_model/_logistic.py:940: ConvergenceWarning: lbfgs failed to converge (status=1):\n",
            "STOP: TOTAL NO. of ITERATIONS REACHED LIMIT.\n",
            "\n",
            "Increase the number of iterations (max_iter) or scale the data as shown in:\n",
            "    https://scikit-learn.org/stable/modules/preprocessing.html\n",
            "Please also refer to the documentation for alternative solver options:\n",
            "    https://scikit-learn.org/stable/modules/linear_model.html#logistic-regression\n",
            "  extra_warning_msg=_LOGISTIC_SOLVER_CONVERGENCE_MSG)\n"
          ],
          "name": "stderr"
        },
        {
          "output_type": "execute_result",
          "data": {
            "text/plain": [
              "LogisticRegression(C=1.0, class_weight=None, dual=False, fit_intercept=True,\n",
              "                   intercept_scaling=1, l1_ratio=None, max_iter=100,\n",
              "                   multi_class='auto', n_jobs=None, penalty='l2',\n",
              "                   random_state=None, solver='lbfgs', tol=0.0001, verbose=0,\n",
              "                   warm_start=False)"
            ]
          },
          "metadata": {
            "tags": []
          },
          "execution_count": 66
        }
      ]
    },
    {
      "cell_type": "code",
      "metadata": {
        "colab": {
          "base_uri": "https://localhost:8080/"
        },
        "id": "hl86XrUlvf5S",
        "outputId": "f403d824-7ddf-40a2-dc6e-47923422bdff"
      },
      "source": [
        "#Model accuracy on train data\n",
        "\n",
        "pred_self = logit.predict(x_train)\n",
        "pred_self"
      ],
      "execution_count": 67,
      "outputs": [
        {
          "output_type": "execute_result",
          "data": {
            "text/plain": [
              "array([0, 1, 0, ..., 0, 1, 0])"
            ]
          },
          "metadata": {
            "tags": []
          },
          "execution_count": 67
        }
      ]
    },
    {
      "cell_type": "code",
      "metadata": {
        "id": "uzH8guFD44aH",
        "colab": {
          "base_uri": "https://localhost:8080/",
          "height": 173
        },
        "outputId": "eef465ba-04b6-4bd5-f0ef-6bda6e7e540c"
      },
      "source": [
        "pd.pivot_table(pd.DataFrame({'y_train':y_train,'pred_self':pred_self}),index=y_train,columns=pred_self,aggfunc='count')"
      ],
      "execution_count": 68,
      "outputs": [
        {
          "output_type": "execute_result",
          "data": {
            "text/html": [
              "<div>\n",
              "<style scoped>\n",
              "    .dataframe tbody tr th:only-of-type {\n",
              "        vertical-align: middle;\n",
              "    }\n",
              "\n",
              "    .dataframe tbody tr th {\n",
              "        vertical-align: top;\n",
              "    }\n",
              "\n",
              "    .dataframe thead tr th {\n",
              "        text-align: left;\n",
              "    }\n",
              "\n",
              "    .dataframe thead tr:last-of-type th {\n",
              "        text-align: right;\n",
              "    }\n",
              "</style>\n",
              "<table border=\"1\" class=\"dataframe\">\n",
              "  <thead>\n",
              "    <tr>\n",
              "      <th></th>\n",
              "      <th colspan=\"2\" halign=\"left\">pred_self</th>\n",
              "      <th colspan=\"2\" halign=\"left\">y_train</th>\n",
              "    </tr>\n",
              "    <tr>\n",
              "      <th></th>\n",
              "      <th>0</th>\n",
              "      <th>1</th>\n",
              "      <th>0</th>\n",
              "      <th>1</th>\n",
              "    </tr>\n",
              "    <tr>\n",
              "      <th>Churn</th>\n",
              "      <th></th>\n",
              "      <th></th>\n",
              "      <th></th>\n",
              "      <th></th>\n",
              "    </tr>\n",
              "  </thead>\n",
              "  <tbody>\n",
              "    <tr>\n",
              "      <th>0</th>\n",
              "      <td>3531</td>\n",
              "      <td>380</td>\n",
              "      <td>3531</td>\n",
              "      <td>380</td>\n",
              "    </tr>\n",
              "    <tr>\n",
              "      <th>1</th>\n",
              "      <td>623</td>\n",
              "      <td>748</td>\n",
              "      <td>623</td>\n",
              "      <td>748</td>\n",
              "    </tr>\n",
              "  </tbody>\n",
              "</table>\n",
              "</div>"
            ],
            "text/plain": [
              "      pred_self      y_train     \n",
              "              0    1       0    1\n",
              "Churn                            \n",
              "0          3531  380    3531  380\n",
              "1           623  748     623  748"
            ]
          },
          "metadata": {
            "tags": []
          },
          "execution_count": 68
        }
      ]
    },
    {
      "cell_type": "code",
      "metadata": {
        "colab": {
          "base_uri": "https://localhost:8080/"
        },
        "id": "I5JMQEJCv3DV",
        "outputId": "b80f9e9c-0d73-4308-9180-34cc27f1acfc"
      },
      "source": [
        "from sklearn.metrics import confusion_matrix\n",
        "confusion_matrix(y_train,pred_self)"
      ],
      "execution_count": 69,
      "outputs": [
        {
          "output_type": "execute_result",
          "data": {
            "text/plain": [
              "array([[3531,  380],\n",
              "       [ 623,  748]])"
            ]
          },
          "metadata": {
            "tags": []
          },
          "execution_count": 69
        }
      ]
    },
    {
      "cell_type": "code",
      "metadata": {
        "colab": {
          "base_uri": "https://localhost:8080/"
        },
        "id": "0Azgns1BwRpA",
        "outputId": "7306351e-c584-4c05-bb61-ad46e285bfdc"
      },
      "source": [
        "print(f\"accuracy : {(3533+722)/(3533+722+647+380)}\")\n",
        "print(f\"recall : {722/(722+647)}\")\n",
        "print(f\"precision : {722/(380+722)}\")"
      ],
      "execution_count": 70,
      "outputs": [
        {
          "output_type": "stream",
          "text": [
            "accuracy : 0.8055660734570238\n",
            "recall : 0.5273922571219869\n",
            "precision : 0.6551724137931034\n"
          ],
          "name": "stdout"
        }
      ]
    },
    {
      "cell_type": "code",
      "metadata": {
        "id": "suutNSuIwR7B"
      },
      "source": [
        "#model Accuracy on test Data\n",
        "test_pred = logit.predict(x_test)"
      ],
      "execution_count": 71,
      "outputs": []
    },
    {
      "cell_type": "code",
      "metadata": {
        "colab": {
          "base_uri": "https://localhost:8080/",
          "height": 173
        },
        "id": "y7v01B6uwSE_",
        "outputId": "c07d0d95-739a-41a5-cfe7-3e631b171bd4"
      },
      "source": [
        "pd.pivot_table(pd.DataFrame({'y_test':y_test,'test_pred':test_pred}),index=y_test,columns=test_pred,aggfunc='count')"
      ],
      "execution_count": 72,
      "outputs": [
        {
          "output_type": "execute_result",
          "data": {
            "text/html": [
              "<div>\n",
              "<style scoped>\n",
              "    .dataframe tbody tr th:only-of-type {\n",
              "        vertical-align: middle;\n",
              "    }\n",
              "\n",
              "    .dataframe tbody tr th {\n",
              "        vertical-align: top;\n",
              "    }\n",
              "\n",
              "    .dataframe thead tr th {\n",
              "        text-align: left;\n",
              "    }\n",
              "\n",
              "    .dataframe thead tr:last-of-type th {\n",
              "        text-align: right;\n",
              "    }\n",
              "</style>\n",
              "<table border=\"1\" class=\"dataframe\">\n",
              "  <thead>\n",
              "    <tr>\n",
              "      <th></th>\n",
              "      <th colspan=\"2\" halign=\"left\">test_pred</th>\n",
              "      <th colspan=\"2\" halign=\"left\">y_test</th>\n",
              "    </tr>\n",
              "    <tr>\n",
              "      <th></th>\n",
              "      <th>0</th>\n",
              "      <th>1</th>\n",
              "      <th>0</th>\n",
              "      <th>1</th>\n",
              "    </tr>\n",
              "    <tr>\n",
              "      <th>Churn</th>\n",
              "      <th></th>\n",
              "      <th></th>\n",
              "      <th></th>\n",
              "      <th></th>\n",
              "    </tr>\n",
              "  </thead>\n",
              "  <tbody>\n",
              "    <tr>\n",
              "      <th>0</th>\n",
              "      <td>1140</td>\n",
              "      <td>123</td>\n",
              "      <td>1140</td>\n",
              "      <td>123</td>\n",
              "    </tr>\n",
              "    <tr>\n",
              "      <th>1</th>\n",
              "      <td>243</td>\n",
              "      <td>255</td>\n",
              "      <td>243</td>\n",
              "      <td>255</td>\n",
              "    </tr>\n",
              "  </tbody>\n",
              "</table>\n",
              "</div>"
            ],
            "text/plain": [
              "      test_pred      y_test     \n",
              "              0    1      0    1\n",
              "Churn                           \n",
              "0          1140  123   1140  123\n",
              "1           243  255    243  255"
            ]
          },
          "metadata": {
            "tags": []
          },
          "execution_count": 72
        }
      ]
    },
    {
      "cell_type": "code",
      "metadata": {
        "colab": {
          "base_uri": "https://localhost:8080/"
        },
        "id": "Dt5vHIVD0CD5",
        "outputId": "f549c4b5-0cf6-4f15-a168-d89be7b18ee0"
      },
      "source": [
        "print(f\"accuracy : {(1135+272)/(1135+272+126+228)}\")"
      ],
      "execution_count": 73,
      "outputs": [
        {
          "output_type": "stream",
          "text": [
            "accuracy : 0.7989778534923339\n"
          ],
          "name": "stdout"
        }
      ]
    },
    {
      "cell_type": "code",
      "metadata": {
        "id": "qnVjWxVqgXLe"
      },
      "source": [
        ""
      ],
      "execution_count": null,
      "outputs": []
    },
    {
      "cell_type": "markdown",
      "metadata": {
        "id": "ZVosOGScgbF8"
      },
      "source": [
        "###Cross Validation"
      ]
    },
    {
      "cell_type": "code",
      "metadata": {
        "id": "dkwcx_8L0bki",
        "colab": {
          "base_uri": "https://localhost:8080/"
        },
        "outputId": "85fd7f9a-735b-4167-d9e5-9bbdfe54335f"
      },
      "source": [
        "from sklearn.linear_model import LogisticRegressionCV\n",
        "from sklearn.metrics import accuracy_score,average_precision_score\n",
        "\n",
        "log_regression = LogisticRegression()\n",
        "logitCV= LogisticRegressionCV(cv=5)\n",
        "logitCV.fit(x_train,y_train)\n",
        "\n"
      ],
      "execution_count": 79,
      "outputs": [
        {
          "output_type": "execute_result",
          "data": {
            "text/plain": [
              "LogisticRegressionCV(Cs=10, class_weight=None, cv=5, dual=False,\n",
              "                     fit_intercept=True, intercept_scaling=1.0, l1_ratios=None,\n",
              "                     max_iter=100, multi_class='auto', n_jobs=None,\n",
              "                     penalty='l2', random_state=None, refit=True, scoring=None,\n",
              "                     solver='lbfgs', tol=0.0001, verbose=0)"
            ]
          },
          "metadata": {
            "tags": []
          },
          "execution_count": 79
        }
      ]
    },
    {
      "cell_type": "code",
      "metadata": {
        "colab": {
          "base_uri": "https://localhost:8080/"
        },
        "id": "aGRrXomXf2Ct",
        "outputId": "96d28484-381f-4d21-f31b-2141ddd72107"
      },
      "source": [
        "accuracy_score(logitCV.predict(x_train),y_train)"
      ],
      "execution_count": 80,
      "outputs": [
        {
          "output_type": "execute_result",
          "data": {
            "text/plain": [
              "0.8102991291177585"
            ]
          },
          "metadata": {
            "tags": []
          },
          "execution_count": 80
        }
      ]
    }
  ]
}