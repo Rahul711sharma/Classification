{
  "nbformat": 4,
  "nbformat_minor": 0,
  "metadata": {
    "kernelspec": {
      "display_name": "Python 3",
      "language": "python",
      "name": "python3"
    },
    "language_info": {
      "codemirror_mode": {
        "name": "ipython",
        "version": 3
      },
      "file_extension": ".py",
      "mimetype": "text/x-python",
      "name": "python",
      "nbconvert_exporter": "python",
      "pygments_lexer": "ipython3",
      "version": "3.7.1"
    },
    "colab": {
      "name": "Heart Disease Neural Network. ipynb",
      "provenance": [],
      "collapsed_sections": [],
      "toc_visible": true,
      "include_colab_link": true
    }
  },
  "cells": [
    {
      "cell_type": "markdown",
      "metadata": {
        "id": "view-in-github",
        "colab_type": "text"
      },
      "source": [
        "<a href=\"https://colab.research.google.com/github/Rahul711sharma/Classification-ML/blob/main/Heart_Disease_Neural_Network.ipynb\" target=\"_parent\"><img src=\"https://colab.research.google.com/assets/colab-badge.svg\" alt=\"Open In Colab\"/></a>"
      ]
    },
    {
      "cell_type": "markdown",
      "metadata": {
        "id": "PYsTFWXYjCxF"
      },
      "source": [
        "# <u><b> Objective </b></u>\n",
        "## <b> Focus on predicting heart disease using neural networks. Based on attributes such as blood pressure, cholestoral levels, heart rate, and other characteristic attributes, patients will be classified according to varying degrees of coronary artery disease. This project will utilize a dataset of 303 patients and distributed by the UCI Machine Learning Repository.\n",
        "\n",
        "## <b>Machine learning and artificial intelligence is going to have a dramatic impact on the health field; as a result, familiarizing yourself with the data processing techniques appropriate for numerical health data and the most widely used algorithms for classification tasks is an incredibly valuable use of your time! </b>\n",
        "\n",
        "<br>\n",
        "<br>\n",
        "\n",
        "## <b>Things to do :</b>\n",
        "* ### Read the heart.csv data, clean the data and normalise the features.\n",
        "* ### Split the data into train and test. \n",
        "* ### Use the keras package to build the model. The code to build such a model is provided below:\n",
        "* ### Evaluate the model across various metrics. \n",
        "\n",
        "\n",
        "\n"
      ]
    },
    {
      "cell_type": "markdown",
      "metadata": {
        "id": "H-bMCfxH-z__"
      },
      "source": [
        "## Explore the keras package to understand how the code works"
      ]
    },
    {
      "cell_type": "code",
      "metadata": {
        "id": "Ah_20SDKV7Ao"
      },
      "source": [
        "from keras.models import Sequential\n",
        "from keras.layers import Dense\n",
        "from keras.optimizers import Adam\n",
        "from keras.layers import Dropout\n",
        "from keras import regularizers\n",
        "\n",
        "# define a function to build the keras model\n",
        "from tensorflow import keras\n",
        "\n",
        "def get_model():\n",
        "    model = keras.Sequential([\n",
        "        keras.layers.Flatten(input_shape=[X_train.shape[-1]]),\n",
        "        keras.layers.Dense(512, activation='relu'),\n",
        "        keras.layers.Dense(256, activation='relu'),\n",
        "        keras.layers.Dense(128, activation='relu'),\n",
        "        keras.layers.Dense(64, activation='relu'),\n",
        "        keras.layers.Dense(32, activation='relu'),\n",
        "        keras.layers.Dropout(0.5),\n",
        "        keras.layers.Dense(9, activation='softmax')\n",
        "    ])\n",
        "    model.compile(optimizer='adam', \n",
        "                  loss='sparse_categorical_crossentropy',\n",
        "                  metrics=['accuracy'])\n",
        "    return model"
      ],
      "execution_count": 22,
      "outputs": []
    },
    {
      "cell_type": "code",
      "metadata": {
        "id": "XUgeSnVtca5y",
        "colab": {
          "base_uri": "https://localhost:8080/"
        },
        "outputId": "a891aaa8-fe76-4a3b-aacb-2706a104fc67"
      },
      "source": [
        "from google.colab import drive\n",
        "drive.mount('/content/drive')"
      ],
      "execution_count": 3,
      "outputs": [
        {
          "output_type": "stream",
          "text": [
            "Mounted at /content/drive\n"
          ],
          "name": "stdout"
        }
      ]
    },
    {
      "cell_type": "code",
      "metadata": {
        "id": "gn-7-l4Uc2Hi"
      },
      "source": [
        "import pandas as pd\n",
        "import numpy as np\n",
        "import matplotlib.pyplot as plt\n",
        "import seaborn as sns\n",
        "from plotnine import *"
      ],
      "execution_count": 4,
      "outputs": []
    },
    {
      "cell_type": "code",
      "metadata": {
        "id": "JpzVFEbsc2N1"
      },
      "source": [
        "df = pd.read_csv(\"/content/drive/MyDrive/heart.csv\")"
      ],
      "execution_count": 5,
      "outputs": []
    },
    {
      "cell_type": "code",
      "metadata": {
        "colab": {
          "base_uri": "https://localhost:8080/",
          "height": 204
        },
        "id": "Hu-RSkglc2Ti",
        "outputId": "f0204fe3-42b0-4720-e2f7-a5307522e411"
      },
      "source": [
        "df.head()"
      ],
      "execution_count": 6,
      "outputs": [
        {
          "output_type": "execute_result",
          "data": {
            "text/html": [
              "<div>\n",
              "<style scoped>\n",
              "    .dataframe tbody tr th:only-of-type {\n",
              "        vertical-align: middle;\n",
              "    }\n",
              "\n",
              "    .dataframe tbody tr th {\n",
              "        vertical-align: top;\n",
              "    }\n",
              "\n",
              "    .dataframe thead th {\n",
              "        text-align: right;\n",
              "    }\n",
              "</style>\n",
              "<table border=\"1\" class=\"dataframe\">\n",
              "  <thead>\n",
              "    <tr style=\"text-align: right;\">\n",
              "      <th></th>\n",
              "      <th>age</th>\n",
              "      <th>sex</th>\n",
              "      <th>cp</th>\n",
              "      <th>trestbps</th>\n",
              "      <th>chol</th>\n",
              "      <th>fbs</th>\n",
              "      <th>restecg</th>\n",
              "      <th>thalach</th>\n",
              "      <th>exang</th>\n",
              "      <th>oldpeak</th>\n",
              "      <th>slope</th>\n",
              "      <th>ca</th>\n",
              "      <th>thal</th>\n",
              "      <th>target</th>\n",
              "    </tr>\n",
              "  </thead>\n",
              "  <tbody>\n",
              "    <tr>\n",
              "      <th>0</th>\n",
              "      <td>63</td>\n",
              "      <td>1</td>\n",
              "      <td>3</td>\n",
              "      <td>145</td>\n",
              "      <td>233</td>\n",
              "      <td>1</td>\n",
              "      <td>0</td>\n",
              "      <td>150</td>\n",
              "      <td>0</td>\n",
              "      <td>2.3</td>\n",
              "      <td>0</td>\n",
              "      <td>0</td>\n",
              "      <td>1</td>\n",
              "      <td>1</td>\n",
              "    </tr>\n",
              "    <tr>\n",
              "      <th>1</th>\n",
              "      <td>37</td>\n",
              "      <td>1</td>\n",
              "      <td>2</td>\n",
              "      <td>130</td>\n",
              "      <td>250</td>\n",
              "      <td>0</td>\n",
              "      <td>1</td>\n",
              "      <td>187</td>\n",
              "      <td>0</td>\n",
              "      <td>3.5</td>\n",
              "      <td>0</td>\n",
              "      <td>0</td>\n",
              "      <td>2</td>\n",
              "      <td>1</td>\n",
              "    </tr>\n",
              "    <tr>\n",
              "      <th>2</th>\n",
              "      <td>41</td>\n",
              "      <td>0</td>\n",
              "      <td>1</td>\n",
              "      <td>130</td>\n",
              "      <td>204</td>\n",
              "      <td>0</td>\n",
              "      <td>0</td>\n",
              "      <td>172</td>\n",
              "      <td>0</td>\n",
              "      <td>1.4</td>\n",
              "      <td>2</td>\n",
              "      <td>0</td>\n",
              "      <td>2</td>\n",
              "      <td>1</td>\n",
              "    </tr>\n",
              "    <tr>\n",
              "      <th>3</th>\n",
              "      <td>56</td>\n",
              "      <td>1</td>\n",
              "      <td>1</td>\n",
              "      <td>120</td>\n",
              "      <td>236</td>\n",
              "      <td>0</td>\n",
              "      <td>1</td>\n",
              "      <td>178</td>\n",
              "      <td>0</td>\n",
              "      <td>0.8</td>\n",
              "      <td>2</td>\n",
              "      <td>0</td>\n",
              "      <td>2</td>\n",
              "      <td>1</td>\n",
              "    </tr>\n",
              "    <tr>\n",
              "      <th>4</th>\n",
              "      <td>57</td>\n",
              "      <td>0</td>\n",
              "      <td>0</td>\n",
              "      <td>120</td>\n",
              "      <td>354</td>\n",
              "      <td>0</td>\n",
              "      <td>1</td>\n",
              "      <td>163</td>\n",
              "      <td>1</td>\n",
              "      <td>0.6</td>\n",
              "      <td>2</td>\n",
              "      <td>0</td>\n",
              "      <td>2</td>\n",
              "      <td>1</td>\n",
              "    </tr>\n",
              "  </tbody>\n",
              "</table>\n",
              "</div>"
            ],
            "text/plain": [
              "   age  sex  cp  trestbps  chol  fbs  ...  exang  oldpeak  slope  ca  thal  target\n",
              "0   63    1   3       145   233    1  ...      0      2.3      0   0     1       1\n",
              "1   37    1   2       130   250    0  ...      0      3.5      0   0     2       1\n",
              "2   41    0   1       130   204    0  ...      0      1.4      2   0     2       1\n",
              "3   56    1   1       120   236    0  ...      0      0.8      2   0     2       1\n",
              "4   57    0   0       120   354    0  ...      1      0.6      2   0     2       1\n",
              "\n",
              "[5 rows x 14 columns]"
            ]
          },
          "metadata": {
            "tags": []
          },
          "execution_count": 6
        }
      ]
    },
    {
      "cell_type": "code",
      "metadata": {
        "colab": {
          "base_uri": "https://localhost:8080/"
        },
        "id": "7xV2ZruMc2YC",
        "outputId": "235ffd57-d26a-4006-8f30-a09756ba7d95"
      },
      "source": [
        "df.shape"
      ],
      "execution_count": 8,
      "outputs": [
        {
          "output_type": "execute_result",
          "data": {
            "text/plain": [
              "(303, 14)"
            ]
          },
          "metadata": {
            "tags": []
          },
          "execution_count": 8
        }
      ]
    },
    {
      "cell_type": "code",
      "metadata": {
        "colab": {
          "base_uri": "https://localhost:8080/",
          "height": 317
        },
        "id": "XE0sNlaVc2cx",
        "outputId": "336c9ad3-7be6-4570-cf6f-010c1a1a4ac9"
      },
      "source": [
        "df.describe(include='all')"
      ],
      "execution_count": 9,
      "outputs": [
        {
          "output_type": "execute_result",
          "data": {
            "text/html": [
              "<div>\n",
              "<style scoped>\n",
              "    .dataframe tbody tr th:only-of-type {\n",
              "        vertical-align: middle;\n",
              "    }\n",
              "\n",
              "    .dataframe tbody tr th {\n",
              "        vertical-align: top;\n",
              "    }\n",
              "\n",
              "    .dataframe thead th {\n",
              "        text-align: right;\n",
              "    }\n",
              "</style>\n",
              "<table border=\"1\" class=\"dataframe\">\n",
              "  <thead>\n",
              "    <tr style=\"text-align: right;\">\n",
              "      <th></th>\n",
              "      <th>age</th>\n",
              "      <th>sex</th>\n",
              "      <th>cp</th>\n",
              "      <th>trestbps</th>\n",
              "      <th>chol</th>\n",
              "      <th>fbs</th>\n",
              "      <th>restecg</th>\n",
              "      <th>thalach</th>\n",
              "      <th>exang</th>\n",
              "      <th>oldpeak</th>\n",
              "      <th>slope</th>\n",
              "      <th>ca</th>\n",
              "      <th>thal</th>\n",
              "      <th>target</th>\n",
              "    </tr>\n",
              "  </thead>\n",
              "  <tbody>\n",
              "    <tr>\n",
              "      <th>count</th>\n",
              "      <td>303.000000</td>\n",
              "      <td>303.000000</td>\n",
              "      <td>303.000000</td>\n",
              "      <td>303.000000</td>\n",
              "      <td>303.000000</td>\n",
              "      <td>303.000000</td>\n",
              "      <td>303.000000</td>\n",
              "      <td>303.000000</td>\n",
              "      <td>303.000000</td>\n",
              "      <td>303.000000</td>\n",
              "      <td>303.000000</td>\n",
              "      <td>303.000000</td>\n",
              "      <td>303.000000</td>\n",
              "      <td>303.000000</td>\n",
              "    </tr>\n",
              "    <tr>\n",
              "      <th>mean</th>\n",
              "      <td>54.366337</td>\n",
              "      <td>0.683168</td>\n",
              "      <td>0.966997</td>\n",
              "      <td>131.623762</td>\n",
              "      <td>246.264026</td>\n",
              "      <td>0.148515</td>\n",
              "      <td>0.528053</td>\n",
              "      <td>149.646865</td>\n",
              "      <td>0.326733</td>\n",
              "      <td>1.039604</td>\n",
              "      <td>1.399340</td>\n",
              "      <td>0.729373</td>\n",
              "      <td>2.313531</td>\n",
              "      <td>0.544554</td>\n",
              "    </tr>\n",
              "    <tr>\n",
              "      <th>std</th>\n",
              "      <td>9.082101</td>\n",
              "      <td>0.466011</td>\n",
              "      <td>1.032052</td>\n",
              "      <td>17.538143</td>\n",
              "      <td>51.830751</td>\n",
              "      <td>0.356198</td>\n",
              "      <td>0.525860</td>\n",
              "      <td>22.905161</td>\n",
              "      <td>0.469794</td>\n",
              "      <td>1.161075</td>\n",
              "      <td>0.616226</td>\n",
              "      <td>1.022606</td>\n",
              "      <td>0.612277</td>\n",
              "      <td>0.498835</td>\n",
              "    </tr>\n",
              "    <tr>\n",
              "      <th>min</th>\n",
              "      <td>29.000000</td>\n",
              "      <td>0.000000</td>\n",
              "      <td>0.000000</td>\n",
              "      <td>94.000000</td>\n",
              "      <td>126.000000</td>\n",
              "      <td>0.000000</td>\n",
              "      <td>0.000000</td>\n",
              "      <td>71.000000</td>\n",
              "      <td>0.000000</td>\n",
              "      <td>0.000000</td>\n",
              "      <td>0.000000</td>\n",
              "      <td>0.000000</td>\n",
              "      <td>0.000000</td>\n",
              "      <td>0.000000</td>\n",
              "    </tr>\n",
              "    <tr>\n",
              "      <th>25%</th>\n",
              "      <td>47.500000</td>\n",
              "      <td>0.000000</td>\n",
              "      <td>0.000000</td>\n",
              "      <td>120.000000</td>\n",
              "      <td>211.000000</td>\n",
              "      <td>0.000000</td>\n",
              "      <td>0.000000</td>\n",
              "      <td>133.500000</td>\n",
              "      <td>0.000000</td>\n",
              "      <td>0.000000</td>\n",
              "      <td>1.000000</td>\n",
              "      <td>0.000000</td>\n",
              "      <td>2.000000</td>\n",
              "      <td>0.000000</td>\n",
              "    </tr>\n",
              "    <tr>\n",
              "      <th>50%</th>\n",
              "      <td>55.000000</td>\n",
              "      <td>1.000000</td>\n",
              "      <td>1.000000</td>\n",
              "      <td>130.000000</td>\n",
              "      <td>240.000000</td>\n",
              "      <td>0.000000</td>\n",
              "      <td>1.000000</td>\n",
              "      <td>153.000000</td>\n",
              "      <td>0.000000</td>\n",
              "      <td>0.800000</td>\n",
              "      <td>1.000000</td>\n",
              "      <td>0.000000</td>\n",
              "      <td>2.000000</td>\n",
              "      <td>1.000000</td>\n",
              "    </tr>\n",
              "    <tr>\n",
              "      <th>75%</th>\n",
              "      <td>61.000000</td>\n",
              "      <td>1.000000</td>\n",
              "      <td>2.000000</td>\n",
              "      <td>140.000000</td>\n",
              "      <td>274.500000</td>\n",
              "      <td>0.000000</td>\n",
              "      <td>1.000000</td>\n",
              "      <td>166.000000</td>\n",
              "      <td>1.000000</td>\n",
              "      <td>1.600000</td>\n",
              "      <td>2.000000</td>\n",
              "      <td>1.000000</td>\n",
              "      <td>3.000000</td>\n",
              "      <td>1.000000</td>\n",
              "    </tr>\n",
              "    <tr>\n",
              "      <th>max</th>\n",
              "      <td>77.000000</td>\n",
              "      <td>1.000000</td>\n",
              "      <td>3.000000</td>\n",
              "      <td>200.000000</td>\n",
              "      <td>564.000000</td>\n",
              "      <td>1.000000</td>\n",
              "      <td>2.000000</td>\n",
              "      <td>202.000000</td>\n",
              "      <td>1.000000</td>\n",
              "      <td>6.200000</td>\n",
              "      <td>2.000000</td>\n",
              "      <td>4.000000</td>\n",
              "      <td>3.000000</td>\n",
              "      <td>1.000000</td>\n",
              "    </tr>\n",
              "  </tbody>\n",
              "</table>\n",
              "</div>"
            ],
            "text/plain": [
              "              age         sex          cp  ...          ca        thal      target\n",
              "count  303.000000  303.000000  303.000000  ...  303.000000  303.000000  303.000000\n",
              "mean    54.366337    0.683168    0.966997  ...    0.729373    2.313531    0.544554\n",
              "std      9.082101    0.466011    1.032052  ...    1.022606    0.612277    0.498835\n",
              "min     29.000000    0.000000    0.000000  ...    0.000000    0.000000    0.000000\n",
              "25%     47.500000    0.000000    0.000000  ...    0.000000    2.000000    0.000000\n",
              "50%     55.000000    1.000000    1.000000  ...    0.000000    2.000000    1.000000\n",
              "75%     61.000000    1.000000    2.000000  ...    1.000000    3.000000    1.000000\n",
              "max     77.000000    1.000000    3.000000  ...    4.000000    3.000000    1.000000\n",
              "\n",
              "[8 rows x 14 columns]"
            ]
          },
          "metadata": {
            "tags": []
          },
          "execution_count": 9
        }
      ]
    },
    {
      "cell_type": "code",
      "metadata": {
        "colab": {
          "base_uri": "https://localhost:8080/"
        },
        "id": "xMW_2ZMKc2im",
        "outputId": "0b9b9bb7-b87f-4b9c-9ce8-cdf0b69a6331"
      },
      "source": [
        "df['target'].value_counts()"
      ],
      "execution_count": 11,
      "outputs": [
        {
          "output_type": "execute_result",
          "data": {
            "text/plain": [
              "1    165\n",
              "0    138\n",
              "Name: target, dtype: int64"
            ]
          },
          "metadata": {
            "tags": []
          },
          "execution_count": 11
        }
      ]
    },
    {
      "cell_type": "code",
      "metadata": {
        "id": "_1Ng0GQyc2m3"
      },
      "source": [
        "from sklearn.model_selection import train_test_split\n",
        "from sklearn.preprocessing import StandardScaler"
      ],
      "execution_count": 12,
      "outputs": []
    },
    {
      "cell_type": "code",
      "metadata": {
        "id": "NWR50JWsc2rH"
      },
      "source": [
        "x= df.drop('target',axis=1)\n",
        "y = df['target']"
      ],
      "execution_count": 13,
      "outputs": []
    },
    {
      "cell_type": "code",
      "metadata": {
        "id": "5Cc7ZW8moG3S"
      },
      "source": [
        "x= StandardScaler().fit_transform(x)\n"
      ],
      "execution_count": 17,
      "outputs": []
    },
    {
      "cell_type": "code",
      "metadata": {
        "id": "YdhG9A8KqEW7"
      },
      "source": [
        "X_train, X_test, y_train, y_test = train_test_split( x,y , test_size = 0.2, random_state = 0)"
      ],
      "execution_count": 19,
      "outputs": []
    },
    {
      "cell_type": "code",
      "metadata": {
        "colab": {
          "base_uri": "https://localhost:8080/"
        },
        "id": "ZwCV_oLYsKQi",
        "outputId": "823984f1-bed7-45f8-f6e9-e02ed129a8e0"
      },
      "source": [
        "import tensorflow as tf\n",
        "\n",
        "batch_size = 512\n",
        "train_ds = tf.data.Dataset.from_tensor_slices((X_train, y_train)).shuffle(len(X_train)).batch(batch_size)\n",
        "val_ds = tf.data.Dataset.from_tensor_slices((X_test, y_test)).batch(batch_size)\n",
        "\n",
        "model = get_model()\n",
        "fit = model.fit(train_ds, validation_data=val_ds, epochs=55)"
      ],
      "execution_count": 76,
      "outputs": [
        {
          "output_type": "stream",
          "text": [
            "Epoch 1/55\n",
            "1/1 [==============================] - 1s 587ms/step - loss: 2.1999 - accuracy: 0.0702 - val_loss: 2.1107 - val_accuracy: 0.4098\n",
            "Epoch 2/55\n",
            "1/1 [==============================] - 0s 33ms/step - loss: 2.1102 - accuracy: 0.3140 - val_loss: 2.0192 - val_accuracy: 0.6721\n",
            "Epoch 3/55\n",
            "1/1 [==============================] - 0s 29ms/step - loss: 2.0191 - accuracy: 0.4545 - val_loss: 1.9060 - val_accuracy: 0.7049\n",
            "Epoch 4/55\n",
            "1/1 [==============================] - 0s 35ms/step - loss: 1.9247 - accuracy: 0.5000 - val_loss: 1.7662 - val_accuracy: 0.7213\n",
            "Epoch 5/55\n",
            "1/1 [==============================] - 0s 28ms/step - loss: 1.7790 - accuracy: 0.5413 - val_loss: 1.5973 - val_accuracy: 0.7377\n",
            "Epoch 6/55\n",
            "1/1 [==============================] - 0s 30ms/step - loss: 1.6397 - accuracy: 0.5620 - val_loss: 1.4088 - val_accuracy: 0.7213\n",
            "Epoch 7/55\n",
            "1/1 [==============================] - 0s 31ms/step - loss: 1.4896 - accuracy: 0.6157 - val_loss: 1.2123 - val_accuracy: 0.7541\n",
            "Epoch 8/55\n",
            "1/1 [==============================] - 0s 29ms/step - loss: 1.3015 - accuracy: 0.6570 - val_loss: 1.0254 - val_accuracy: 0.7869\n",
            "Epoch 9/55\n",
            "1/1 [==============================] - 0s 38ms/step - loss: 1.2125 - accuracy: 0.6860 - val_loss: 0.8534 - val_accuracy: 0.8033\n",
            "Epoch 10/55\n",
            "1/1 [==============================] - 0s 31ms/step - loss: 1.0394 - accuracy: 0.7066 - val_loss: 0.6998 - val_accuracy: 0.8033\n",
            "Epoch 11/55\n",
            "1/1 [==============================] - 0s 28ms/step - loss: 0.9785 - accuracy: 0.7066 - val_loss: 0.5798 - val_accuracy: 0.8525\n",
            "Epoch 12/55\n",
            "1/1 [==============================] - 0s 30ms/step - loss: 0.8145 - accuracy: 0.7686 - val_loss: 0.4976 - val_accuracy: 0.8852\n",
            "Epoch 13/55\n",
            "1/1 [==============================] - 0s 32ms/step - loss: 0.7160 - accuracy: 0.7851 - val_loss: 0.4511 - val_accuracy: 0.8852\n",
            "Epoch 14/55\n",
            "1/1 [==============================] - 0s 41ms/step - loss: 0.6868 - accuracy: 0.7562 - val_loss: 0.4276 - val_accuracy: 0.8361\n",
            "Epoch 15/55\n",
            "1/1 [==============================] - 0s 30ms/step - loss: 0.6688 - accuracy: 0.7562 - val_loss: 0.3953 - val_accuracy: 0.8689\n",
            "Epoch 16/55\n",
            "1/1 [==============================] - 0s 29ms/step - loss: 0.5746 - accuracy: 0.7769 - val_loss: 0.3706 - val_accuracy: 0.8852\n",
            "Epoch 17/55\n",
            "1/1 [==============================] - 0s 30ms/step - loss: 0.6521 - accuracy: 0.8099 - val_loss: 0.3717 - val_accuracy: 0.8689\n",
            "Epoch 18/55\n",
            "1/1 [==============================] - 0s 28ms/step - loss: 0.6567 - accuracy: 0.7769 - val_loss: 0.3897 - val_accuracy: 0.8525\n",
            "Epoch 19/55\n",
            "1/1 [==============================] - 0s 28ms/step - loss: 0.6086 - accuracy: 0.7934 - val_loss: 0.4054 - val_accuracy: 0.8525\n",
            "Epoch 20/55\n",
            "1/1 [==============================] - 0s 31ms/step - loss: 0.5214 - accuracy: 0.8017 - val_loss: 0.4066 - val_accuracy: 0.8525\n",
            "Epoch 21/55\n",
            "1/1 [==============================] - 0s 29ms/step - loss: 0.5493 - accuracy: 0.8223 - val_loss: 0.4086 - val_accuracy: 0.8525\n",
            "Epoch 22/55\n",
            "1/1 [==============================] - 0s 28ms/step - loss: 0.5666 - accuracy: 0.8223 - val_loss: 0.4103 - val_accuracy: 0.8525\n",
            "Epoch 23/55\n",
            "1/1 [==============================] - 0s 27ms/step - loss: 0.4583 - accuracy: 0.8388 - val_loss: 0.4102 - val_accuracy: 0.8525\n",
            "Epoch 24/55\n",
            "1/1 [==============================] - 0s 28ms/step - loss: 0.4577 - accuracy: 0.8223 - val_loss: 0.4093 - val_accuracy: 0.8525\n",
            "Epoch 25/55\n",
            "1/1 [==============================] - 0s 27ms/step - loss: 0.4344 - accuracy: 0.8347 - val_loss: 0.4125 - val_accuracy: 0.8525\n",
            "Epoch 26/55\n",
            "1/1 [==============================] - 0s 28ms/step - loss: 0.4606 - accuracy: 0.8223 - val_loss: 0.4164 - val_accuracy: 0.8525\n",
            "Epoch 27/55\n",
            "1/1 [==============================] - 0s 34ms/step - loss: 0.4269 - accuracy: 0.8347 - val_loss: 0.4140 - val_accuracy: 0.8525\n",
            "Epoch 28/55\n",
            "1/1 [==============================] - 0s 32ms/step - loss: 0.3994 - accuracy: 0.8430 - val_loss: 0.4072 - val_accuracy: 0.8525\n",
            "Epoch 29/55\n",
            "1/1 [==============================] - 0s 32ms/step - loss: 0.4181 - accuracy: 0.8388 - val_loss: 0.4019 - val_accuracy: 0.8525\n",
            "Epoch 30/55\n",
            "1/1 [==============================] - 0s 32ms/step - loss: 0.4153 - accuracy: 0.8430 - val_loss: 0.4012 - val_accuracy: 0.8525\n",
            "Epoch 31/55\n",
            "1/1 [==============================] - 0s 30ms/step - loss: 0.3969 - accuracy: 0.8512 - val_loss: 0.4030 - val_accuracy: 0.8525\n",
            "Epoch 32/55\n",
            "1/1 [==============================] - 0s 30ms/step - loss: 0.3655 - accuracy: 0.8760 - val_loss: 0.4048 - val_accuracy: 0.8525\n",
            "Epoch 33/55\n",
            "1/1 [==============================] - 0s 27ms/step - loss: 0.3443 - accuracy: 0.8843 - val_loss: 0.4068 - val_accuracy: 0.8525\n",
            "Epoch 34/55\n",
            "1/1 [==============================] - 0s 32ms/step - loss: 0.3373 - accuracy: 0.8967 - val_loss: 0.4085 - val_accuracy: 0.8525\n",
            "Epoch 35/55\n",
            "1/1 [==============================] - 0s 34ms/step - loss: 0.3298 - accuracy: 0.8884 - val_loss: 0.4065 - val_accuracy: 0.8525\n",
            "Epoch 36/55\n",
            "1/1 [==============================] - 0s 27ms/step - loss: 0.3606 - accuracy: 0.8802 - val_loss: 0.4058 - val_accuracy: 0.8525\n",
            "Epoch 37/55\n",
            "1/1 [==============================] - 0s 34ms/step - loss: 0.3243 - accuracy: 0.8884 - val_loss: 0.4053 - val_accuracy: 0.8525\n",
            "Epoch 38/55\n",
            "1/1 [==============================] - 0s 29ms/step - loss: 0.2906 - accuracy: 0.8884 - val_loss: 0.4070 - val_accuracy: 0.8525\n",
            "Epoch 39/55\n",
            "1/1 [==============================] - 0s 35ms/step - loss: 0.2864 - accuracy: 0.8802 - val_loss: 0.4113 - val_accuracy: 0.8689\n",
            "Epoch 40/55\n",
            "1/1 [==============================] - 0s 35ms/step - loss: 0.3077 - accuracy: 0.8843 - val_loss: 0.4156 - val_accuracy: 0.8689\n",
            "Epoch 41/55\n",
            "1/1 [==============================] - 0s 31ms/step - loss: 0.3011 - accuracy: 0.8802 - val_loss: 0.4190 - val_accuracy: 0.8689\n",
            "Epoch 42/55\n",
            "1/1 [==============================] - 0s 30ms/step - loss: 0.2881 - accuracy: 0.9008 - val_loss: 0.4250 - val_accuracy: 0.8689\n",
            "Epoch 43/55\n",
            "1/1 [==============================] - 0s 34ms/step - loss: 0.2736 - accuracy: 0.9050 - val_loss: 0.4324 - val_accuracy: 0.8689\n",
            "Epoch 44/55\n",
            "1/1 [==============================] - 0s 28ms/step - loss: 0.2726 - accuracy: 0.9050 - val_loss: 0.4398 - val_accuracy: 0.8689\n",
            "Epoch 45/55\n",
            "1/1 [==============================] - 0s 29ms/step - loss: 0.2471 - accuracy: 0.9298 - val_loss: 0.4456 - val_accuracy: 0.8689\n",
            "Epoch 46/55\n",
            "1/1 [==============================] - 0s 32ms/step - loss: 0.2241 - accuracy: 0.9380 - val_loss: 0.4534 - val_accuracy: 0.8852\n",
            "Epoch 47/55\n",
            "1/1 [==============================] - 0s 55ms/step - loss: 0.2242 - accuracy: 0.9298 - val_loss: 0.4593 - val_accuracy: 0.8852\n",
            "Epoch 48/55\n",
            "1/1 [==============================] - 0s 37ms/step - loss: 0.2181 - accuracy: 0.9339 - val_loss: 0.4627 - val_accuracy: 0.8689\n",
            "Epoch 49/55\n",
            "1/1 [==============================] - 0s 44ms/step - loss: 0.2129 - accuracy: 0.9380 - val_loss: 0.4670 - val_accuracy: 0.8525\n",
            "Epoch 50/55\n",
            "1/1 [==============================] - 0s 27ms/step - loss: 0.1908 - accuracy: 0.9256 - val_loss: 0.4757 - val_accuracy: 0.8525\n",
            "Epoch 51/55\n",
            "1/1 [==============================] - 0s 28ms/step - loss: 0.1618 - accuracy: 0.9463 - val_loss: 0.4863 - val_accuracy: 0.8525\n",
            "Epoch 52/55\n",
            "1/1 [==============================] - 0s 33ms/step - loss: 0.1956 - accuracy: 0.9421 - val_loss: 0.5000 - val_accuracy: 0.8525\n",
            "Epoch 53/55\n",
            "1/1 [==============================] - 0s 32ms/step - loss: 0.1742 - accuracy: 0.9504 - val_loss: 0.5116 - val_accuracy: 0.8525\n",
            "Epoch 54/55\n",
            "1/1 [==============================] - 0s 35ms/step - loss: 0.1404 - accuracy: 0.9711 - val_loss: 0.5185 - val_accuracy: 0.8525\n",
            "Epoch 55/55\n",
            "1/1 [==============================] - 0s 31ms/step - loss: 0.1688 - accuracy: 0.9587 - val_loss: 0.5256 - val_accuracy: 0.8689\n"
          ],
          "name": "stdout"
        }
      ]
    },
    {
      "cell_type": "code",
      "metadata": {
        "colab": {
          "base_uri": "https://localhost:8080/",
          "height": 266
        },
        "id": "3D5mE-2DsKmC",
        "outputId": "45ed2e7f-3c67-431d-84ec-59bfce5e7f83"
      },
      "source": [
        "plt.plot(fit.history['accuracy'], color='blue')\n",
        "plt.plot(fit.history['val_accuracy'], color='red')\n",
        "plt.show()"
      ],
      "execution_count": 77,
      "outputs": [
        {
          "output_type": "display_data",
          "data": {
            "image/png": "[encoded data removed]",
            "text/plain": [
              "<Figure size 432x288 with 1 Axes>"
            ]
          },
          "metadata": {
            "tags": [],
            "needs_background": "light"
          }
        }
      ]
    },
    {
      "cell_type": "code",
      "metadata": {
        "colab": {
          "base_uri": "https://localhost:8080/"
        },
        "id": "aHRsmgmusKuS",
        "outputId": "b5fb3a9c-b408-4094-ae41-fc7c3427136d"
      },
      "source": [
        "y_pred_nn = model.predict_classes(val_ds)"
      ],
      "execution_count": 78,
      "outputs": [
        {
          "output_type": "stream",
          "text": [
            "/usr/local/lib/python3.7/dist-packages/tensorflow/python/keras/engine/sequential.py:455: UserWarning: `model.predict_classes()` is deprecated and will be removed after 2021-01-01. Please use instead:* `np.argmax(model.predict(x), axis=-1)`,   if your model does multi-class classification   (e.g. if it uses a `softmax` last-layer activation).* `(model.predict(x) > 0.5).astype(\"int32\")`,   if your model does binary classification   (e.g. if it uses a `sigmoid` last-layer activation).\n",
            "  warnings.warn('`model.predict_classes()` is deprecated and '\n"
          ],
          "name": "stderr"
        }
      ]
    },
    {
      "cell_type": "code",
      "metadata": {
        "colab": {
          "base_uri": "https://localhost:8080/"
        },
        "id": "Wg4iOralsK1X",
        "outputId": "9d522699-dd02-416a-9cc6-717a48a1ffe7"
      },
      "source": [
        "from sklearn.metrics import  roc_auc_score,accuracy_score\n",
        "print('ROCAUC score:', roc_auc_score(y_test, y_pred_nn))\n",
        "print('Accuracy score:', accuracy_score(y_test, y_pred_nn))"
      ],
      "execution_count": 79,
      "outputs": [
        {
          "output_type": "stream",
          "text": [
            "ROCAUC score: 0.8671023965141612\n",
            "Accuracy score: 0.8688524590163934\n"
          ],
          "name": "stdout"
        }
      ]
    },
    {
      "cell_type": "code",
      "metadata": {
        "id": "BRD1jTYTsK7M"
      },
      "source": [
        ""
      ],
      "execution_count": 59,
      "outputs": []
    }
  ]
}